{
 "cells": [
  {
   "cell_type": "code",
   "execution_count": 2,
   "metadata": {},
   "outputs": [],
   "source": [
    "import numpy as np\n",
    "import pandas as pd\n",
    "import os\n",
    "import math"
   ]
  },
  {
   "cell_type": "code",
   "execution_count": 55,
   "metadata": {},
   "outputs": [],
   "source": [
    "# string 변수 만들기\n",
    "# name.capitalize()\n",
    "name='dongsoo'\n",
    "\n",
    "name.capitalize()\n",
    "name.count('o') # name 에 'o'라는 문자가 몇개 있는지 카운팅\n",
    "\n",
    "name.split('o') # name에 'o'라는 문자를 제거후 출력\n",
    "\n",
    "name_split=name.split('g')\n",
    "type(name_split)\n",
    "\n",
    "name_split[0] # name 이라는 리스트에서 'g'문자를 제거후 첫번째 리스트(don) 을 출력\n",
    "\n",
    "text='I\\'m Jongho'\n",
    "text\n",
    "\n",
    "s1='Python'\n",
    "s1=s1+'Python'\n",
    "s1"
   ]
  },
  {
   "cell_type": "code",
   "execution_count": 66,
   "metadata": {},
   "outputs": [
    {
     "name": "stdout",
     "output_type": "stream",
     "text": [
      "10 20\n",
      "10 20 30\n"
     ]
    }
   ],
   "source": [
    "# 변수 지우기 'del 변수명'\n",
    "# 사용한 변수명 확인하기 'dir()'\n",
    "a,b = 10, 20\n",
    "print(a,b)\n",
    "\n",
    "v1, v2, v3 = 10, 20, 30\n",
    "print(v1,v2,v3)"
   ]
  },
  {
   "cell_type": "code",
   "execution_count": null,
   "metadata": {},
   "outputs": [],
   "source": [
    "# Containers : '자료를 담는 통' -> list[], tuple(), set{}, frozenset{}, dictionary{}\n",
    "\n",
    "# list[] : 리스트 이름을 변경 가능하고 수정 가능함 옮기는것도 가능\n",
    "# tuple() : 자료의 변경을 허용하지 않는 구조\n",
    "# set{} : 자료추가가 가능하며 겹치는 자료의 유무를 알아내는데 유용하다.\n",
    "# frozenset{} : set를 한번 만들면 자료 변경과 추가가 불가능하다.\n",
    "# dictionary{} : 방에 이름이 쓰여져 있고 방안에 자료가 들어간다. 해당 columns을 알아야 데이터를 찾을 수 있다."
   ]
  },
  {
   "cell_type": "code",
   "execution_count": 70,
   "metadata": {},
   "outputs": [
    {
     "data": {
      "text/plain": [
       "[1, 2, 3]"
      ]
     },
     "execution_count": 70,
     "metadata": {},
     "output_type": "execute_result"
    }
   ],
   "source": [
    "# list[]\n",
    "\n",
    "my_list1= [10, 10.1, 'python', True]\n",
    "my_list1\n",
    "type(my_list1)\n",
    "\n",
    "my_list1 = list([1,2,3])\n",
    "my_list1"
   ]
  },
  {
   "cell_type": "code",
   "execution_count": 73,
   "metadata": {},
   "outputs": [
    {
     "data": {
      "text/plain": [
       "(1, 2, 3)"
      ]
     },
     "execution_count": 73,
     "metadata": {},
     "output_type": "execute_result"
    }
   ],
   "source": [
    "# tuple()\n",
    "my_tuple1=(10, 10.1, 'python', True)\n",
    "my_tuple1\n",
    "type(my_tuple1)\n",
    "\n",
    "my_tuple1= tuple([1,2,3])\n",
    "my_tuple1"
   ]
  },
  {
   "cell_type": "code",
   "execution_count": 77,
   "metadata": {},
   "outputs": [
    {
     "data": {
      "text/plain": [
       "1"
      ]
     },
     "execution_count": 77,
     "metadata": {},
     "output_type": "execute_result"
    }
   ],
   "source": [
    "# list 와 tuple 은 sequence 타입으로 불린다. sequence -> 순서적으로 되어있고 방에있는 자료를 불러올 수 있음"
   ]
  },
  {
   "cell_type": "code",
   "execution_count": 81,
   "metadata": {},
   "outputs": [
    {
     "data": {
      "text/plain": [
       "['Kepler', 'Euler', 'Gauss']"
      ]
     },
     "execution_count": 81,
     "metadata": {},
     "output_type": "execute_result"
    }
   ],
   "source": [
    "# 자료가 list타입일 경우 변경하는 방법\n",
    "\n",
    "vip_names=['Newton', 'Euler', 'Gauss']\n",
    "vip_names[0]='Kepler' # vip_namse의 첫번째에 있는 'Newton' 값을 'Kepler'로 변경\n",
    "vip_names\n",
    "\n",
    "# 자료가 tuple일 경우 변경하는 방법 (list와 같이 변경하면 오류가 발생)\n"
   ]
  },
  {
   "cell_type": "code",
   "execution_count": 86,
   "metadata": {},
   "outputs": [
    {
     "data": {
      "text/plain": [
       "[50, 40, 30, 20, 10]"
      ]
     },
     "execution_count": 86,
     "metadata": {},
     "output_type": "execute_result"
    }
   ],
   "source": [
    "my_list1=[10,20,30,40,50]\n",
    "my_list1[:] # 모든 자료를 가져오고 싶을 때 ':'을 사용\n",
    "\n",
    "my_list1[0:4:1] # 마지막 1은 증가량을 의미; 적지 않을 경우 자동으로 1로 인식\n",
    "\n",
    "my_list1[-1] # '-1'은 끝에있는 값을 가져옴\n",
    "\n",
    "my_list1[-1::-1] # 중간에 끝의 값을 적지 않고 건너 뛰면 자동으로 1단위로 인식\n",
    "\n",
    "my_list1[-1:-6:-1]"
   ]
  },
  {
   "cell_type": "code",
   "execution_count": 102,
   "metadata": {},
   "outputs": [
    {
     "name": "stdout",
     "output_type": "stream",
     "text": [
      "100\n",
      "200\n",
      "300\n",
      "60\n"
     ]
    }
   ],
   "source": [
    "#my_list2=[[10,20,30,40,50],[20]]\n",
    "#my_list2\n",
    "\n",
    "#my_list3=[[10,20,30],[40,50,60]]\n",
    "#my_list3\n",
    "\n",
    "my_list4=[[10,20,30],\n",
    "          [40,50,60]]\n",
    "\n",
    "my_list4\n",
    "my_list4[1][0:2] # my_list4의 두번째 방에서 두번째 값까지만 출력\n",
    "\n",
    "my_list5=[[10,20,[100,200,300]], [40,50,60]]\n",
    "my_list5\n",
    "\n",
    "print(my_list5[0][2][0])\n",
    "print(my_list5[0][2][1])\n",
    "print(my_list5[0][2][2])\n",
    "print(my_list5[1][2]) "
   ]
  },
  {
   "cell_type": "code",
   "execution_count": 107,
   "metadata": {},
   "outputs": [
    {
     "data": {
      "text/plain": [
       "[[10, 20], [30, 40]]"
      ]
     },
     "execution_count": 107,
     "metadata": {},
     "output_type": "execute_result"
    }
   ],
   "source": [
    "#list 더하기\n",
    "my_list1 = [10,20,30]\n",
    "my_list2=[100,200,300]\n",
    "my_list1+my_list2\n",
    "\n",
    "my_list1=[[10,20],[30,40]]\n",
    "my_list2=[[40,60],[70,80]]\n",
    "\n",
    "my_list1+my_list2\n",
    "\n",
    "my_list3= my_list1+my_list2\n",
    "my_list3"
   ]
  },
  {
   "cell_type": "code",
   "execution_count": 108,
   "metadata": {},
   "outputs": [
    {
     "data": {
      "text/plain": [
       "[[10, 20], [30, 40], [10, 20], [30, 40]]"
      ]
     },
     "execution_count": 108,
     "metadata": {},
     "output_type": "execute_result"
    }
   ],
   "source": [
    "my_list1*2"
   ]
  },
  {
   "cell_type": "code",
   "execution_count": 109,
   "metadata": {},
   "outputs": [
    {
     "name": "stdout",
     "output_type": "stream",
     "text": [
      "[100, 20, 30, 40, 50] [100, 20, 30, 40, 50]\n"
     ]
    }
   ],
   "source": [
    "old_list=[10,20,30,40,50]\n",
    "new_list=old_list\n",
    "\n",
    "old_list[0]=100\n",
    "\n",
    "print(new_list, old_list) # 위의 수식처럼 리스트를 변경하면 기존의 변수도 같이 변경이 된다."
   ]
  },
  {
   "cell_type": "code",
   "execution_count": 111,
   "metadata": {},
   "outputs": [
    {
     "data": {
      "text/plain": [
       "[10, 20, 30, 40, 50, 60, 40, 50, 60]"
      ]
     },
     "execution_count": 111,
     "metadata": {},
     "output_type": "execute_result"
    }
   ],
   "source": [
    "# list 더하기 -> extend\n",
    "num_list1=[10,20,30]\n",
    "num_list2=[40,50,60]\n",
    "num_list1.extend(num_list2)\n",
    "num_list1\n",
    "\n",
    "num_list1=num_list1+num_list2\n",
    "num_list1"
   ]
  },
  {
   "cell_type": "code",
   "execution_count": 127,
   "metadata": {},
   "outputs": [
    {
     "data": {
      "text/plain": [
       "[['Asia', 24],\n",
       " ['America', 25],\n",
       " ['Europe', 20],\n",
       " ['Africa', 28],\n",
       " ['Austrilia', 23]]"
      ]
     },
     "execution_count": 127,
     "metadata": {},
     "output_type": "execute_result"
    }
   ],
   "source": [
    "# append : 변수추가\n",
    "\n",
    "vip_names=['Newton','Euler','Gauss']\n",
    "vip_names.append('Kepler') # append 함수를 이용하여 'Kepler'라는 변수 추가\n",
    "vip_names\n",
    "\n",
    "# pop : 변수 삭제\n",
    "vip_names.pop(0)\n",
    "vip_names\n",
    "\n",
    "# insert : 변수추가\n",
    "vip_names.insert(5,'Gauss')\n",
    "vip_names\n",
    "\n",
    "# index : 해당 변수가 몇번째 index 에 있는지 찾아줌\n",
    "vip_names.index('Gauss')\n",
    "\n",
    "# sort : 알파벳 순으로 정렬\n",
    "vip_names.sort()\n",
    "vip_names\n",
    "\n",
    "# reverse : 반대로 정렬\n",
    "vip_names\n",
    "vip_names.reverse()\n",
    "vip_names\n",
    "\n",
    "data=[['Asia',24],\n",
    "      ['America',25],\n",
    "      ['Europe',20],\n",
    "      ['Africa',28],\n",
    "      ['Austrilia',23]]\n",
    "data"
   ]
  },
  {
   "cell_type": "code",
   "execution_count": 158,
   "metadata": {},
   "outputs": [
    {
     "name": "stdout",
     "output_type": "stream",
     "text": [
      "frozenset({40, 10, 50, 20, 30}) frozenset({70, 40, 80, 50, 60})\n",
      "True True\n"
     ]
    },
    {
     "data": {
      "text/plain": [
       "False"
      ]
     },
     "execution_count": 158,
     "metadata": {},
     "output_type": "execute_result"
    }
   ],
   "source": [
    "# Set type\n",
    "\n",
    "my_set1={10,20,30}\n",
    "my_set2={10, 'Jongho',True}\n",
    "my_set3={10,20,30,20}\n",
    "my_set3\n",
    "\n",
    "\n",
    "my_list4=[10,20,30,40,50]\n",
    "my_set4=set(my_list4)\n",
    "my_set4\n",
    "\n",
    "b=set()\n",
    "b\n",
    "\n",
    "my_set1.add(40)\n",
    "my_set1\n",
    "my_set1.update([30,50])\n",
    "my_set1\n",
    "\n",
    "A={10,20,30,40,50}\n",
    "B={40,50,60,70,80}\n",
    "\n",
    "A|B # A 와 B를 결합하여 출력\n",
    "\n",
    "A.union(B) # A 와 B의 합집합\n",
    "\n",
    "A&B # A와 B의 교집합\n",
    "A.intersection(B)\n",
    "\n",
    "A-B\n",
    "A.difference(B) # A와 B의 차집합\n",
    "\n",
    "A.symmetric_difference(B) # A와 B가 중복되지 않는 부분만을 출력\n",
    "\n",
    "A.issubset(B) # A의 값들이 B에 다 들어가 있는지 확인해줌 Ture, False로 출력\n",
    "\n",
    "# Frozenset\n",
    "A=frozenset([10,20,30,40,50])\n",
    "B=frozenset([40,50,60,70,80])\n",
    "print(A,B)\n",
    "\n",
    "#A.add(100) 'frozenset'는 추가되지 않는다\n",
    "\n",
    "A=frozenset([10,20,30,40,50])\n",
    "B=set([40,50,60,70,80])\n",
    "\n",
    "A&B\n",
    "\n",
    "vip_names=['Newton','Kepler','Euler','Galileo']\n",
    "door1_list=['Newton']\n",
    "door2_list=['Euler','Galileo']\n",
    "\n",
    "door1_list in vip_names # door1_list에 리스트값[x]를 입력을 안했기 때문에 False 라고 뜬다.\n",
    "\n",
    "door1_list[0] in vip_names\n",
    "\n",
    "All=set(vip_names)\n",
    "D1=set(door1_list)\n",
    "D2=set(door2_list)\n",
    "\n",
    "print(D1.issubset(All),D2.issubset(All))\n",
    "\n",
    "D_combined=D1|D2\n",
    "D_combined.issubset(All)\n",
    "\n",
    "All-D_combined\n",
    "Missing=All-D_combined\n",
    "Missing\n",
    "\n",
    "door1_list=['Newton','Jongho']\n",
    "door2_list=['Euler','Jongho']\n",
    "D1=set(door1_list)\n",
    "D2=set(door2_list)\n",
    "combined=D1|D2\n",
    "combined.issubset(All)"
   ]
  },
  {
   "cell_type": "code",
   "execution_count": 6,
   "metadata": {},
   "outputs": [
    {
     "name": "stdout",
     "output_type": "stream",
     "text": [
      "10 [20, 30, 40] 50 [24, 'Python']\n"
     ]
    }
   ],
   "source": [
    "# Dictionary -> 키,값 형태\n",
    "\n",
    "my_dict={'A':'Jongho', 'B':'Hojun', 'C':'Jaewook'}\n",
    "my_dict['A']\n",
    "my_dict={'C':'Jaewook','A':'Jongho','B':'Hojun'}\n",
    "my_dict['C']\n",
    "\n",
    "phone_book={'Jongho':'1111-1111',\n",
    "            'Hojun':'222-2222',\n",
    "            'Jaewook':'333-3333'}\n",
    "phone_book['Jongho']\n",
    "\n",
    "phone_book.get('Jongho')\n",
    "\n",
    "phone_book['Jongho']='777-7777' # dict 값 변경\n",
    "phone_book.get('Jongho')\n",
    "\n",
    "phone_book.update({'Jongho':'999-9999'}) # 위와 마찬가지로 dict값 업데이트(변경)\n",
    "phone_book\n",
    "\n",
    "'Jongho' in phone_book\n",
    "\n",
    "phone_book.pop('Hojun') # dict 의 키-값 제거\n",
    "phone_book\n",
    "\n",
    "my_list=[10,20,30,40,50]\n",
    "my_tuple=(10,20,30,40,50)\n",
    "my_set={10,20,30,40,50}\n",
    "\n",
    "# print(len(my_list),len(my_tuple), len(my_set)) 함수의 길이 출력\n",
    "# print(max(my_list),max(my_tuple), max(my_set)) 함수의 최댓값 출력\n",
    "# print(min(my_list), min(my_tuple), min(my_set)) 함수의 최솟값 출력\n",
    "\n",
    "member_list=['Kevin',24,'Python']\n",
    "name=member_list[0]\n",
    "age=member_list[1]\n",
    "lan=member_list[2]\n",
    "\n",
    "# print(name, age, lan)\n",
    "\n",
    "# name, age, lan =member_list\n",
    "# print(name, age, lan)\n",
    "\n",
    "name, *pdata=member_list # * -> 뒤에 붙은 변수는 별도로 리스트화 해서 출력\n",
    "#print(name, pdata)\n",
    "\n",
    "num_list = [10,20,30,40,50]\n",
    "first, *rest=num_list\n",
    "#print(first, rest)\n",
    "\n",
    "first, *body, last=num_list\n",
    "print(first, body, last, pdata)"
   ]
  },
  {
   "cell_type": "code",
   "execution_count": 12,
   "metadata": {},
   "outputs": [
    {
     "name": "stdout",
     "output_type": "stream",
     "text": [
      "0\n",
      "1\n",
      "2\n",
      "3\n",
      "4\n",
      "2\n",
      "4\n",
      "6\n",
      "8\n",
      "10\n",
      "8\n",
      "6\n",
      "4\n"
     ]
    }
   ],
   "source": [
    "# range : list함수를 만들때 유용함.\n",
    "\n",
    "range(0,20,2)\n",
    "r=range(0,20,2) # 0부터 20까지 2씩 증가\n",
    "\n",
    "11 in r\n",
    "\n",
    "r.index(10) # 10이 몇번째 index에 있는지 출력\n",
    "r[:5]\n",
    "r[-1]\n",
    "\n",
    "list(range(10,50,10))\n",
    "list(range(10,50,1))\n",
    "\n",
    "\n",
    " # for 문\n",
    "for i in range(5):  # range에 들어가 있는 숫자를 출력\n",
    "    print(i)\n",
    "\n",
    "for i in range(2,10,2):\n",
    "    print(i)\n",
    "\n",
    "for i in range(10,2,-2):\n",
    "    print(i)"
   ]
  },
  {
   "cell_type": "code",
   "execution_count": 37,
   "metadata": {},
   "outputs": [
    {
     "name": "stdout",
     "output_type": "stream",
     "text": [
      "I like Python\n",
      "He likes Python \n",
      "she Likes Python\n"
     ]
    },
    {
     "data": {
      "text/plain": [
       "5"
      ]
     },
     "execution_count": 37,
     "metadata": {},
     "output_type": "execute_result"
    }
   ],
   "source": [
    "# string(str)\n",
    "s='Python'\n",
    "s[0::2]\n",
    "s[::3]\n",
    "s='python'\n",
    "s.capitalize()\n",
    "s.find('t')\n",
    "s='Python'\n",
    "s.find('P')\n",
    "s='PPython'\n",
    "s.index('P')\n",
    "s.isalpha() # s에 알파벳만 들어가 있는지 확인 True, Flase 출력\n",
    "\n",
    "s='Python 3'\n",
    "s.isalnum()\n",
    "\n",
    "s='234'\n",
    "s.isdecimal() # 0-9사이의 숫자만 있기때문에 True\n",
    "\n",
    "s.isdigit() # isdecimal과 마찬가지\n",
    "\n",
    "s='I like Python\\nHe likes Python \\nshe Likes Python' # \\n 줄바꿈 문자\n",
    "print(s)\n",
    "\n",
    "t=s.splitlines() # splitlines : 라인별 문장을 리스트로 출력\n",
    "type(t)\n",
    "\n",
    "s='python'\n",
    "s.upper()\n",
    "\n",
    "s='pppppython'\n",
    "s.count('p')"
   ]
  },
  {
   "cell_type": "markdown",
   "metadata": {},
   "source": [
    "Format & Print"
   ]
  },
  {
   "cell_type": "code",
   "execution_count": 56,
   "metadata": {},
   "outputs": [
    {
     "name": "stdout",
     "output_type": "stream",
     "text": [
      "Python 3\n",
      "Python3\n",
      "Python 3\n",
      "data=4312.1235663\n",
      "DATA=4312.123566\n",
      "Data=   4312\n",
      "Data=4,312.1235663\n",
      "Data=4312\n",
      "Data=4.312124e+03\n",
      "Data=4312.123566\n",
      "Data=4312.12\n"
     ]
    }
   ],
   "source": [
    "s='Python'\n",
    "v=3\n",
    "print(s,v) # s, v 를 분리해서 출력\n",
    "print(s+str(v)) # s,v 를 띄워쓰지 않고 출력\n",
    "print(s + ' '+ str(v)) # ' '로 중간에 여백을 두고 출력\n",
    "\n",
    "s='Python 3'\n",
    "s='Python {}'\n",
    "s.format(1+2) # 위의 { }안에 format 변환에 대한 값을 출력\n",
    "\n",
    "s='Python {} {}' \n",
    "s.format(3, 'Released') \n",
    "\n",
    "s='Python {1} {0}'\n",
    "s.format(3, 'Released') # 위의 중괄호 안의 인수로 인해 포맷변환의 순서 변경\n",
    "\n",
    "data = 4312.1235663\n",
    "print('data='+str(data))\n",
    "\n",
    "print('DATA={:2f}'.format(data)) # 소숫점 2째 자리 까지 포맷\n",
    "print('Data={:7.0f}'.format(data)) # {:x.yf} : x=출력을 원하는 자리, y=소숫점 위치\n",
    "print('Data={:,}'.format(data)) # 숫자를 보기 편하게 ','로 표시\n",
    "print('Data={:d}'.format(int(data))) # 정수부분만 출력\n",
    "print('Data={:e}'.format(data))\n",
    "print('Data=%(x)f'%{'x': data}) # x라는 키를 찾아서 data의 값을 넣어서 출력\n",
    "print('Data=%(x).2f'%{'x':data}) # output : 4312.12"
   ]
  },
  {
   "cell_type": "markdown",
   "metadata": {},
   "source": [
    "Math Module"
   ]
  },
  {
   "cell_type": "code",
   "execution_count": 70,
   "metadata": {},
   "outputs": [
    {
     "data": {
      "text/plain": [
       "6.0"
      ]
     },
     "execution_count": 70,
     "metadata": {},
     "output_type": "execute_result"
    }
   ],
   "source": [
    "import math\n",
    "math.floor(math.pi)\n",
    "math.ceil(math.pi)\n",
    "\n",
    "p=math.pi\n",
    "p\n",
    "\n",
    "math.sin(p/2)\n",
    "\n",
    "x_degree=90\n",
    "x_radian = x_degree*(p/180)\n",
    "x_radian\n",
    "\n",
    "math.sqrt(4)\n",
    "math.pow(2,3)\n",
    "2**3 # 2의 3승\n",
    "\n",
    "x=2\n",
    "math.isinf(x)\n",
    "math.fsum([1,2,3]) # 리스트 안에 있는 숫자를 다 더해줌"
   ]
  },
  {
   "cell_type": "markdown",
   "metadata": {},
   "source": [
    "OS Module"
   ]
  },
  {
   "cell_type": "code",
   "execution_count": 76,
   "metadata": {},
   "outputs": [
    {
     "data": {
      "text/plain": [
       "['c:\\\\Users\\\\LG\\\\Desktop\\\\박종호',\n",
       " 'c:\\\\Users\\\\LG\\\\anaconda3\\\\python310.zip',\n",
       " 'c:\\\\Users\\\\LG\\\\anaconda3\\\\DLLs',\n",
       " 'c:\\\\Users\\\\LG\\\\anaconda3\\\\lib',\n",
       " 'c:\\\\Users\\\\LG\\\\anaconda3',\n",
       " '',\n",
       " 'c:\\\\Users\\\\LG\\\\anaconda3\\\\lib\\\\site-packages',\n",
       " 'c:\\\\Users\\\\LG\\\\anaconda3\\\\lib\\\\site-packages\\\\win32',\n",
       " 'c:\\\\Users\\\\LG\\\\anaconda3\\\\lib\\\\site-packages\\\\win32\\\\lib',\n",
       " 'c:\\\\Users\\\\LG\\\\anaconda3\\\\lib\\\\site-packages\\\\Pythonwin']"
      ]
     },
     "execution_count": 76,
     "metadata": {},
     "output_type": "execute_result"
    }
   ],
   "source": [
    "import os\n",
    "os.getcwd() # 현재 디렉토리를 알려주는 함수\n",
    "\n",
    "# os.chdir : 디렉토리를 변경해주는 함수\n",
    "# os.chidr('..') : '..' 현재 있는 디렉토리에서 바로 상위 디렉토리로 이동\n",
    "# os.rename('박종호','dir1') : '박종호'라는 이름의 디렉토리를 'dir1'으로 이름을 변경하는 함수\n",
    "# os.remove('dir0', 'dir100') : 디렉토리를 제거\n",
    "\n",
    "import sys\n",
    "sys.modules # 현재 파이썬에서 쓰고 있는 모듈\n",
    "\n",
    "sys.path # 나만의 모듈을 만들고 싶을때 path 에 등록을 하면 어디에서든 쓸 수 있다."
   ]
  },
  {
   "cell_type": "markdown",
   "metadata": {},
   "source": [
    "Input Output"
   ]
  },
  {
   "cell_type": "code",
   "execution_count": 126,
   "metadata": {},
   "outputs": [],
   "source": [
    "f=open('file1.txt','w') # 파일을 사용하고 싶을때 'w' '박종호'폴더에 file1 이라는 txt 파일 생성\n",
    "type(f)\n",
    "f.closed # 파일을 사용할 수 있는지 여부를 확인 True 일 경우 파일을 사용할 수 없음\n",
    "f.write('I love dam')\n",
    "f.close()\n",
    "f.closed\n",
    "\n",
    "with open('file2.txt','w') as f: # with를 사용하면 f.closed를 사용하여 파일을 닫지 않아도 알아서 닫힘\n",
    "    f.write('I love dam\\n')    \n",
    "    f.write('I love lol')\n",
    "\n",
    "f.closed\n",
    "\n",
    "fid=open('file2.txt','r') # file2 라는 텍스트 파일 불러오기\n",
    "#fid.read()\n",
    "data=[] # list 형식의 data 생성\n",
    "data.append(fid.readline(10)) # fid(file2)의 첫번째 줄을 list 형식의 data에 적용, readline() 안에 숫자를 입력하면 해당 문자열까지 리스트로 적용해서 출력\n",
    "data"
   ]
  },
  {
   "cell_type": "code",
   "execution_count": 135,
   "metadata": {},
   "outputs": [
    {
     "data": {
      "text/plain": [
       "['str1', 'str2', 'str3']"
      ]
     },
     "execution_count": 135,
     "metadata": {},
     "output_type": "execute_result"
    }
   ],
   "source": [
    "fid = open('file2.txt','r')\n",
    "data=[]\n",
    "data.append(fid.readline())\n",
    "data.append(fid.readline())\n",
    "data\n",
    "for line in fid:\n",
    "    line"
   ]
  },
  {
   "cell_type": "code",
   "execution_count": 142,
   "metadata": {},
   "outputs": [
    {
     "data": {
      "text/plain": [
       "False"
      ]
     },
     "execution_count": 142,
     "metadata": {},
     "output_type": "execute_result"
    }
   ],
   "source": [
    "data=['str1','str2','str3']\n",
    "data\n",
    "\n",
    "import json\n",
    "f=open('file3.txt','w')\n",
    "json.dump(data,f) # data란 파일을 json형식으로 넣어 놓겠다는 의미\n",
    "f.close()\n",
    "\n",
    "f=open('file3.txt','r')\n",
    "x=json.load(f)\n",
    "type(x)\n",
    "f.closed"
   ]
  },
  {
   "cell_type": "code",
   "execution_count": 153,
   "metadata": {},
   "outputs": [
    {
     "data": {
      "text/plain": [
       "True"
      ]
     },
     "execution_count": 153,
     "metadata": {},
     "output_type": "execute_result"
    }
   ],
   "source": [
    "import pickle\n",
    "f=open('file4.txt','wb')\n",
    "pickle.dump(data,f)\n",
    "f.close()\n",
    "f.closed\n",
    "\n",
    "f=open('file4.txt','r')\n",
    "#pickle.load(f)\n",
    "f.close()\n",
    "f.closed"
   ]
  },
  {
   "cell_type": "code",
   "execution_count": 161,
   "metadata": {},
   "outputs": [
    {
     "data": {
      "text/plain": [
       "True"
      ]
     },
     "execution_count": 161,
     "metadata": {},
     "output_type": "execute_result"
    }
   ],
   "source": [
    "f=open('file4.txt','rb') # 특수 텍스트가 들어가서 'rb'로 불러옴\n",
    "x=pickle.load(f)\n",
    "x\n",
    "f.close()\n",
    "f.closed"
   ]
  },
  {
   "cell_type": "markdown",
   "metadata": {},
   "source": [
    "Scipy.org\n",
    "1. Numpy\n",
    "2. Sympy\n",
    "3. Matplotlib\n",
    "4. Scypy\n",
    "5. Pandas"
   ]
  },
  {
   "cell_type": "code",
   "execution_count": 183,
   "metadata": {},
   "outputs": [
    {
     "data": {
      "text/plain": [
       "array([10, 20, 30])"
      ]
     },
     "execution_count": 183,
     "metadata": {},
     "output_type": "execute_result"
    }
   ],
   "source": [
    "# Numpy 는 행렬 계산에 최적화된 함수\n",
    "import numpy as np\n",
    "a=np.arange(10) # 0부터 10까지 리스트로 출력\n",
    "a \n",
    "a=np.array([10,20,30])\n",
    "a\n",
    "\n",
    "# size에 관련된 변수들\n",
    "#a.shape # output이 3, 인것은 1차원([10,20,30]) 으로 구성되어 있기때문에 \n",
    "#a.ndim # a가 몇차원으로 구성되어 있는지 출력\n",
    "#a.dtype\n",
    "#a.itemsize # a에 몇바이트 들어있는지 확인\n",
    "#a.size # a array에 값이 몇개가 들어가 있는지 알려줌\n",
    "#type(a)\n",
    "\n",
    "a=np.array([10,20,30])\n",
    "a.dtype\n",
    "\n",
    "a[2]=30.1\n",
    "a # 30.1 이 아니라 소숫점이 날라간 정수타입으로 출력\n",
    "\n",
    "a.dtype.name\n",
    "a=a.astype('float64') # 소숫점 단위도 출력 가능하게 변환\n",
    "a[2]=30.1\n",
    "a\n",
    "\n",
    "b=np.array([10,20,30.])\n",
    "b\n",
    "\n",
    "c=np.array([10.1,20.1,30.1], 'int32')\n",
    "c"
   ]
  },
  {
   "cell_type": "code",
   "execution_count": 198,
   "metadata": {},
   "outputs": [
    {
     "data": {
      "text/plain": [
       "dtype('complex128')"
      ]
     },
     "execution_count": 198,
     "metadata": {},
     "output_type": "execute_result"
    }
   ],
   "source": [
    "x=np.array([7,9,11])\n",
    "y=x/2\n",
    "x.dtype # 정수타입 int32\n",
    "y.dtype # 실수타입 float64\n",
    "\n",
    "a=np.array([[10,20,30],\n",
    "           [40,50,60]])\n",
    "a.shape\n",
    "\n",
    "a=np.array(\n",
    "    [\n",
    "        [[10,50],[20,60]],\n",
    "        [[30,70],[40,80]]\n",
    "    ]\n",
    ")\n",
    "a\n",
    "\n",
    "#a=np.array([10+10j, 20+20j])\n",
    "#a\n",
    "a=np.array([10,20],'complex')\n",
    "a.dtype"
   ]
  },
  {
   "cell_type": "code",
   "execution_count": 212,
   "metadata": {},
   "outputs": [
    {
     "name": "stdout",
     "output_type": "stream",
     "text": [
      "(2,) (1, 2)\n",
      "[[10 20]\n",
      " [30 40]] (2, 2)\n"
     ]
    },
    {
     "data": {
      "text/plain": [
       "array([0., 1., 2., 3., 4., 5.])"
      ]
     },
     "execution_count": 212,
     "metadata": {},
     "output_type": "execute_result"
    }
   ],
   "source": [
    "# numpy matrix\n",
    "a=np.array([10,20]) # 1차원 행렬(2,)\n",
    "b=np.matrix([10,20]) # 2차원 행렬(1,2)\n",
    "print(a.shape,b.shape)\n",
    "\n",
    "b=np.matrix([[10,20],[30,40]])\n",
    "print(b, b.shape)\n",
    "\n",
    "a=np.array([10,20,30])\n",
    "a=np.insert(a,0,5) # insert(arr, obj, values, axis=None) -> insert(array, object, values, axis) /  a 변수에 0번째 index에 5를 삽입\n",
    "a\n",
    "\n",
    "a=np.linspace(0,5,6)\n",
    "a"
   ]
  },
  {
   "cell_type": "code",
   "execution_count": 228,
   "metadata": {},
   "outputs": [
    {
     "name": "stdout",
     "output_type": "stream",
     "text": [
      "[11 22 33] [ 9 18 27] [1 4 9] [20 40 60]\n",
      "[ True  True  True] [ True False False]\n",
      "[11. 22. 33.] [ 9. 18. 27.] [10. 40. 90.] [10. 10. 10.] (array([10., 10., 10.]), array([0., 0., 0.])) [ 2.71828183  7.3890561  20.08553692] [1.         1.41421356 1.73205081]\n"
     ]
    }
   ],
   "source": [
    "a=np.array([10,20,30])\n",
    "b=np.array([ 1, 2, 3])\n",
    "\n",
    "c1=a+b\n",
    "c2=a-b\n",
    "c3=b**2\n",
    "c4=2*a\n",
    "print(c1,c2,c3,c4)\n",
    "\n",
    "idx1=b<20\n",
    "idx2=a<20\n",
    "print(idx1, idx2)\n",
    "\n",
    "a=np.array([10.,20.,30.])\n",
    "b=np.array([1,2,3])\n",
    "\n",
    "f1=np.add(a,b) # a+b\n",
    "f2=np.subtract(a,b) # a-b\n",
    "f3=np.multiply(a,b) # a*b\n",
    "f4=np.divide(a,b) # a/b\n",
    "f5=np.divmod(a,b) # 나머지 자리 찾아주는 함수 divmod\n",
    "f6=np.exp(b)\n",
    "f7=np.sqrt(b)\n",
    "\n",
    "print(f1,f2,f3,f4,f5,f6,f7)"
   ]
  },
  {
   "cell_type": "code",
   "execution_count": 233,
   "metadata": {},
   "outputs": [
    {
     "data": {
      "text/plain": [
       "15.0"
      ]
     },
     "execution_count": 233,
     "metadata": {},
     "output_type": "execute_result"
    }
   ],
   "source": [
    "# np.average(a) # a의 평균\n",
    "# np.average(x,weights=[1,1,1]) # x의 평균인데 weights라는 가중치 부여\n",
    "# np.median(a) # a의 중앙값\n",
    "# np.cumsum(a) # a리스트속의 앞의 값을 더한 값 출력"
   ]
  },
  {
   "cell_type": "code",
   "execution_count": 255,
   "metadata": {},
   "outputs": [
    {
     "name": "stdout",
     "output_type": "stream",
     "text": [
      "[10. 20. 30. 25. 15.] [10. 15. 20. 25. 30.]\n"
     ]
    },
    {
     "data": {
      "text/plain": [
       "array([1, 2, 3, 4, 5, 6])"
      ]
     },
     "execution_count": 255,
     "metadata": {},
     "output_type": "execute_result"
    }
   ],
   "source": [
    "#x=np.array([10,20,30])\n",
    "#x.sum()\n",
    "\n",
    "x=np.array([10.,20.,30.,25.,15.])\n",
    "x.min() # x 의 최소값\n",
    "x.argmin() # 최소값이 위치한 자리를 출력\n",
    "\n",
    "x_min, x_min_idx=x.min(), x.argmin()\n",
    "\n",
    "x.max()\n",
    "x_max, x_max_idx=x.max(), x.argmax()\n",
    "\n",
    "x.ptp() # 최소값과 최대값의 차이를 알려줌\n",
    "\n",
    "x=np.array([10.,20.,30.,25.,15.])\n",
    "y=np.sort(x) # x의 값을 순서대로 정렬\n",
    "print(x,y)\n",
    "\n",
    "idx=np.argsort(x) # sort 되기전의 위치값을 출력\n",
    "idx\n",
    "\n",
    "a=np.array([10,20,30])\n",
    "b=np.array([-5,25])\n",
    "np.searchsorted(a,b) # a에 insert를 하고 싶을때 어느 위치를 입력해야 하는지 알려줌"
   ]
  },
  {
   "cell_type": "code",
   "execution_count": 312,
   "metadata": {},
   "outputs": [
    {
     "data": {
      "text/plain": [
       "array([[1, 2],\n",
       "       [3, 4],\n",
       "       [5, 6]])"
      ]
     },
     "execution_count": 312,
     "metadata": {},
     "output_type": "execute_result"
    }
   ],
   "source": [
    "d=np.arange(1,7,1)\n",
    "d\n",
    "\n",
    "e=d.reshape(2,3)\n",
    "g=np.linspace(1,10,10).reshape(2,5)\n",
    "g\n",
    "\n",
    "a=np.array([[1,2],[3,4]])\n",
    "a1=np.repeat(a,2, axis=0) # a 리스트를 2번 반복하고 밑의 방향으로 리스트를 출력\n",
    "a2=np.repeat(a,2,axis=1) # a 리스트를 2번 반복하고 오른쪽의 방향으로 리스트를 출력\n",
    "# print(a2)\n",
    "np.repeat(a,[1,2],axis=0) # a 리스트의 첫번째에 있는 열은 한번 반복, 두번째에 있는 열은 두번 반복하라는 의미\n",
    "np.repeat(a, [1,3],axis=0)\n",
    "\n",
    "np.repeat(a,[1,2], axis=1)\n",
    "np.repeat(a,[2,1],axis=1)\n",
    "\n",
    "a=np.array([[1],[2],[3]])\n",
    "b=np.array([[4],[5],[6]])\n",
    "c=np.concatenate((a,b),axis=0) # a와 b 리스트를 밑으로 연결 # 단 튜플형태로 입력해야한다.\n",
    "d=np.concatenate((a,b),axis=1) # a와 b 리스트를 오른쪽으로 연결\n",
    "#print(c)\n",
    "#print(d)\n",
    "\n",
    "a=np.array([10,20,30])\n",
    "b=np.array([40,50,60])\n",
    "np.vstack((a,b)) # a,b를 행단위로 연결\n",
    "np.hstack((a,b)) # a,b를 열단위로 연결\n",
    "\n",
    "A=np.array([[10.,20.,30.],\n",
    "            [40.,50.,60.]])\n",
    "\n",
    "np.hsplit(A,3) # 행단위로 3개로 나눔\n",
    "np.vsplit(A,2) # 열단위로 2개로 나눔\n",
    "\n",
    "A=np.array([[10,20,30],[40,50,60]])\n",
    "A.transpose() # 행열을 바꿔주는 함수\n",
    "A.ravel() #2차원의 함수를 1차원으로 변경, 한줄 정렬\n",
    "A.reshape(-1) # 한줄로 정렬\n",
    "A.ravel(order='C')\n",
    "A.ravel(order='F')\n",
    "\n",
    "A=np.array([[1,2,3]]) # (1,3) 차원\n",
    "\n",
    "B=A.squeeze() # squeeze 함수를 이용해 차원을 축소\n",
    "B.shape\n",
    "\n",
    "A=np.array([[[1,2]],\n",
    "            [[3,4]],\n",
    "            [[5,6]]])\n",
    "A\n",
    "\n",
    "B=A.squeeze()\n",
    "B"
   ]
  },
  {
   "cell_type": "markdown",
   "metadata": {},
   "source": [
    "## [1,2,3] 행렬과 [4,5,6] 행렬의 결합"
   ]
  },
  {
   "cell_type": "code",
   "execution_count": 323,
   "metadata": {},
   "outputs": [
    {
     "data": {
      "text/plain": [
       "array([[1, 4],\n",
       "       [2, 5],\n",
       "       [3, 6]])"
      ]
     },
     "execution_count": 323,
     "metadata": {},
     "output_type": "execute_result"
    }
   ],
   "source": [
    "A1=np.array([1,2,3])\n",
    "B1=np.array([4,5,6])\n",
    "\n",
    "A2=A1[:,np.newaxis] # A1의 모든 숫자들을 선택한 후 차원을 하나 더 추가해준다.\n",
    "B2=B1[:,np.newaxis]\n",
    "A2.shape # (3,1) 차원\n",
    "A1.shape # (3,) 차원\n",
    "\n",
    "\n",
    "np.concatenate((A2,B2),axis=0)\n",
    "np.concatenate((A2,B2),axis=1)\n",
    "\n",
    "np.vstack((A1,B1)).transpose()\n",
    "np.hstack((A1,B1)).reshape(2,3).transpose()"
   ]
  },
  {
   "cell_type": "code",
   "execution_count": 332,
   "metadata": {},
   "outputs": [
    {
     "data": {
      "text/plain": [
       "False"
      ]
     },
     "execution_count": 332,
     "metadata": {},
     "output_type": "execute_result"
    }
   ],
   "source": [
    "# shallow copy\n",
    "A=np.array([10,20,30,40])\n",
    "B=A.view()\n",
    "\n",
    "# deep copy\n",
    "A=np.array([10,20,30,40])\n",
    "B=A.copy()"
   ]
  },
  {
   "cell_type": "markdown",
   "metadata": {},
   "source": [
    "## Logic Function"
   ]
  },
  {
   "cell_type": "code",
   "execution_count": 22,
   "metadata": {},
   "outputs": [
    {
     "data": {
      "text/plain": [
       "array([[0, 0, 0],\n",
       "       [0, 0, 0],\n",
       "       [0, 0, 0]])"
      ]
     },
     "execution_count": 22,
     "metadata": {},
     "output_type": "execute_result"
    }
   ],
   "source": [
    "a=np.array([0,1,2])\n",
    "a.all() # a라는 array에 모든 값이 참인지 True False 값으로 출력\n",
    "a.any() # 하나라도 참이 있을경우 True 값을 출력\n",
    "a.nonzero() # a 라는 array에 0을 제외한 값을 출력\n",
    "\n",
    "\n",
    "a=np.array([0,10,20])\n",
    "np.where(a>0) # a라는 array에 a>0 조건을 만족하는 값이 어디에 있는지 알려주는 함수\n",
    "\n",
    "a=np.array([10,0,20])\n",
    "np.where(a>0)\n",
    "\n",
    "np.where(a==0) # 0의 위치는 어디있는지 알려주는 함수\n",
    "\n",
    "M1=np.array([100.,\n",
    "             101.,\n",
    "             102.,\n",
    "             103.,\n",
    "             104.])\n",
    "M1[[0,2,4]] # indexing을 해서 여러개의 리스트 값을 가져옴\n",
    "\n",
    "M1[0:3:1] # 0번째부터 3번째 이전까지 1의 차수만큼 가져옴\n",
    "M1[:] # 모든 리스트를 가져옴\n",
    "M1[::2] # 앞의 조건 없이 2의 차수만큼 가져옴\n",
    "\n",
    "M2=np.array([[100., 101., 102],\n",
    "             [200.,201.,202]])\n",
    "M2[0][2] # 0번째 차원속의 2번째 리스트의 값을 출력\n",
    "M2[0,2] # 위와 같음\n",
    "\n",
    "Y=M2[:,2]\n",
    "Y.shape\n",
    "Y\n",
    "\n",
    "Y=Y[:,np.newaxis]\n",
    "Y\n",
    "Y.shape\n",
    "\n",
    "M2[:,[0,2]]\n",
    "\n",
    "M3=np.array([\n",
    "    [\n",
    "        [100.,101.,102.,103.],\n",
    "        [104.,105.,106.,107.],\n",
    "        [108.,109.,110.,111.]],\n",
    "        [[200.,201.,202.,203.],\n",
    "         [204.,205.,206.,207.],\n",
    "         [208.,209.,210.,211]]\n",
    "             ])\n",
    "\n",
    "M3[0,:,:]\n",
    "M3[1,:,:]\n",
    "\n",
    "x=np.array([10.,20.,30.])\n",
    "idx=np.where(x==30)\n",
    "x[idx]\n",
    "\n",
    "idx=np.where(x==30.)\n",
    "idx\n",
    "\n",
    "idx=(x==30)\n",
    "x[idx]\n",
    "idx\n",
    "\n",
    "#where() or nonzero()\n",
    "x[np.where(x==30)]\n",
    "np.nonzero(x==30)\n",
    "\n",
    "#image\n",
    "IMAGE=np.array([[255,0,255],\n",
    "                 [255,0,255],\n",
    "                 [255,0,255]])\n",
    "\n",
    "idx=np.where(IMAGE==255)\n",
    "\n",
    "IMAGE[idx]=0\n",
    "IMAGE\n",
    "idx\n"
   ]
  },
  {
   "cell_type": "markdown",
   "metadata": {},
   "source": [
    "## Numpy Linear Algebra"
   ]
  },
  {
   "cell_type": "code",
   "execution_count": 40,
   "metadata": {},
   "outputs": [
    {
     "name": "stdout",
     "output_type": "stream",
     "text": [
      "[[1.3]\n",
      " [0.1]]\n",
      "(array([2.5+1.93649167j, 2.5-1.93649167j]), array([[ 0.77459667+0.j ,  0.77459667-0.j ],\n",
      "       [-0.38729833-0.5j, -0.38729833+0.5j]]))\n"
     ]
    }
   ],
   "source": [
    "M=np.array([[10,20],[30,40]])\n",
    "N=np.array([[1,2],[3,4]])\n",
    "\n",
    "#print(M)\n",
    "#print(N)\n",
    "#M*N\n",
    "\n",
    "M@N # 행렬 연산 '@'\n",
    "M.dot(N) # 행렬 연산 함수 'dot'\n",
    "\n",
    "a=np.zeros((3,3)) # 0으로만 구성된 3*3 행렬 생성\n",
    "b=np.ones((3,3)) # 1로만 구성된 3*3 행렬 생성\n",
    "\n",
    "c=np.trace(b) # b 행렬의 대각선 방향을 다 더한 값을 출력\n",
    "\n",
    "M=np.array([[1.,-3.,],\n",
    "            [2.,4.]])\n",
    "y=np.array([[1.],[3.]])\n",
    "\n",
    "M_inv=np.linalg.inv(M) # M 행렬의 inverse(해)를 찾아줌\n",
    "\n",
    "x=M_inv@y\n",
    "x\n",
    "\n",
    "x=np.linalg.solve(M,y) # 위의 방법 inverse의 과정을 한줄로 표현한 코드\n",
    "print(x)\n",
    "lin_eig=np.linalg.eig(M)\n",
    "print(lin_eig)"
   ]
  },
  {
   "cell_type": "markdown",
   "metadata": {},
   "source": [
    "## SVD(Singular Value Decomposition)"
   ]
  },
  {
   "cell_type": "code",
   "execution_count": 46,
   "metadata": {},
   "outputs": [
    {
     "name": "stdout",
     "output_type": "stream",
     "text": [
      "None\n"
     ]
    },
    {
     "data": {
      "text/plain": [
       "array([[100.,   0.,   0.,   0.,   0.],\n",
       "       [  0., 100.,   0.,   0.,   0.],\n",
       "       [  0.,   0., 100.,   0.,   0.],\n",
       "       [  0.,   0.,   0., 100.,   0.],\n",
       "       [  0.,   0.,   0.,   0., 100.]])"
      ]
     },
     "execution_count": 46,
     "metadata": {},
     "output_type": "execute_result"
    }
   ],
   "source": [
    "np.linalg.svd(M)\n",
    "\n",
    "N=np.zeros((5,5)) # 0으로 채운 5*5 행렬 생성\n",
    "fill_diag=np.fill_diagonal(N,100) # 대각선 방향으로만 100을 채워 넣음\n",
    "print(fill_diag)\n",
    "N"
   ]
  },
  {
   "cell_type": "markdown",
   "metadata": {},
   "source": [
    "### Numpy를 활용하여 행렬을 변환한 계산"
   ]
  },
  {
   "cell_type": "code",
   "execution_count": 77,
   "metadata": {},
   "outputs": [
    {
     "name": "stdout",
     "output_type": "stream",
     "text": [
      "[[ 0  0  0  0]\n",
      " [ 0  1  2  3]\n",
      " [ 0  2  4  6]\n",
      " [ 0  3  6  9]\n",
      " [ 0  4  8 12]]\n",
      "31 [0.18962865 0.18381386 0.44735672 0.98136313 0.15819126]\n"
     ]
    }
   ],
   "source": [
    "A=np.array([[10,20,30],\n",
    "           [40,50,60],\n",
    "           [70,80,90]])\n",
    "\n",
    "B=np.array(\n",
    "    [\n",
    "        [1],\n",
    "        [2],\n",
    "        [3]\n",
    "    ]\n",
    ")\n",
    "\n",
    "#B=B.repeat(3,axis=1) # 열 방향으로 각 열의 값을 앞의 숫자(3) 만큼 반복한 행렬 생성\n",
    "#B\n",
    "#A*B\n",
    "\n",
    "# broadcasting\n",
    "# function uasge example\n",
    "def f(x,y):\n",
    "    return x*y\n",
    "B=np.fromfunction(f,(5,4),dtype=int) # f(x,y) 함수를 생성한 후 각 인덱스별로 곱하는 행렬을 생성 인덱스의 시작은 0부터임.\n",
    "print(B)\n",
    "\n",
    "# set\n",
    "a=np.array([10,20,30,40,50])\n",
    "b=np.array([30,50])\n",
    "np.setdiff1d(a,b) # a와b가 교차하지 않는 원소를 추출\n",
    "\n",
    "x1=np.random.randint(100) # 정수로된 숫자중 0-100 사이의 정수 하나를 추출\n",
    "x2=np.random.rand(5) # 다섯개의 실수를 추출\n",
    "print(x1,x2)"
   ]
  }
 ],
 "metadata": {
  "kernelspec": {
   "display_name": "base",
   "language": "python",
   "name": "python3"
  },
  "language_info": {
   "codemirror_mode": {
    "name": "ipython",
    "version": 3
   },
   "file_extension": ".py",
   "mimetype": "text/x-python",
   "name": "python",
   "nbconvert_exporter": "python",
   "pygments_lexer": "ipython3",
   "version": "3.10.9"
  },
  "orig_nbformat": 4
 },
 "nbformat": 4,
 "nbformat_minor": 2
}
