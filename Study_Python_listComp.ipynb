{
 "cells": [
  {
   "cell_type": "markdown",
   "metadata": {},
   "source": [
    "## List Comprehension : 리스트를 만들때 반복문과 조건문을 섞어서 효과적으로 씀"
   ]
  },
  {
   "cell_type": "code",
   "execution_count": 66,
   "metadata": {},
   "outputs": [],
   "source": [
    "import numpy as np\n",
    "import pandas as pd\n",
    "import time\n",
    "import matplotlib.pyplot as plt\n",
    "import os, sys\n",
    "import getpass\n",
    "from itertools import compress\n",
    "import glob\n",
    "import shutil"
   ]
  },
  {
   "cell_type": "code",
   "execution_count": 6,
   "metadata": {},
   "outputs": [
    {
     "name": "stdout",
     "output_type": "stream",
     "text": [
      "['P']\n",
      "['P', 'y']\n",
      "['P', 'y', 't']\n",
      "['P', 'y', 't', 'h']\n",
      "['P', 'y', 't', 'h', 'o']\n",
      "['P', 'y', 't', 'h', 'o', 'n']\n"
     ]
    }
   ],
   "source": [
    "my_str='Python'\n",
    "my_str2=[]\n",
    "for letter in my_str:\n",
    "    my_str2.append(letter)\n",
    "    print(my_str2)"
   ]
  },
  {
   "cell_type": "code",
   "execution_count": 5,
   "metadata": {},
   "outputs": [
    {
     "data": {
      "text/plain": [
       "['P', 'y', 't', 'h', 'o', 'n']"
      ]
     },
     "execution_count": 5,
     "metadata": {},
     "output_type": "execute_result"
    }
   ],
   "source": [
    "# 위의 수식을 한줄로 해결하기\n",
    "my_str2=[letter for letter in my_str] # 'my_str 리스트 안에들어가서 하나씩 letter를 뽑아오는데 반복을 하면서 list를 만들어라'\n",
    "my_str2"
   ]
  },
  {
   "cell_type": "code",
   "execution_count": 10,
   "metadata": {},
   "outputs": [
    {
     "name": "stdout",
     "output_type": "stream",
     "text": [
      "[0, 10, 20, 30, 40, 50, 60, 70, 80, 90]\n"
     ]
    }
   ],
   "source": [
    "# conditionals in list comprehension\n",
    "num_list=[x for x in range(100) \n",
    "          if x%2==0\n",
    "          if x%5==0]\n",
    "print(num_list)\n",
    "time.sleep(0.5)"
   ]
  },
  {
   "cell_type": "code",
   "execution_count": 11,
   "metadata": {},
   "outputs": [
    {
     "name": "stdout",
     "output_type": "stream",
     "text": [
      "['Even', 'Odd', 'Even', 'Odd', 'Even', 'Odd', 'Even', 'Odd', 'Even', 'Odd']\n"
     ]
    }
   ],
   "source": [
    "obj=['Even' if i%2==0 else 'Odd' for i in range(10)]\n",
    "print(obj)"
   ]
  },
  {
   "cell_type": "code",
   "execution_count": 12,
   "metadata": {},
   "outputs": [
    {
     "name": "stdout",
     "output_type": "stream",
     "text": [
      "{0: 0, 1: 1, 2: 4, 3: 9, 4: 16, 5: 25}\n"
     ]
    }
   ],
   "source": [
    "# dictionary comprehrnsion\n",
    "squares={x:x**2 for x in range(6)}\n",
    "print(squares)"
   ]
  },
  {
   "cell_type": "markdown",
   "metadata": {},
   "source": [
    "## File & Directory Manage"
   ]
  },
  {
   "cell_type": "code",
   "execution_count": 18,
   "metadata": {},
   "outputs": [
    {
     "name": "stdout",
     "output_type": "stream",
     "text": [
      "c:\\Users\\LG\\Desktop\\박종호\n"
     ]
    }
   ],
   "source": [
    "# print(os.getcwd())\n",
    "# os.mkdir('my_dir1') # directory 생성\n",
    "# os.chdir('.\\my_dir1') # 앞으로 사용할 dir 경로 변경"
   ]
  },
  {
   "cell_type": "code",
   "execution_count": 95,
   "metadata": {},
   "outputs": [],
   "source": [
    "# 내가 정한 dir에 파일 100개 생성하는 코드\n",
    "for i in range(100):\n",
    "    f = open('file'+str(i), 'w')\n",
    "    f.close()"
   ]
  },
  {
   "cell_type": "code",
   "execution_count": 96,
   "metadata": {},
   "outputs": [],
   "source": [
    "flist=os.listdir('.')\n",
    "for fid in flist:\n",
    "    f_name=fid[0:4]\n",
    "    f_num=fid[4::]\n",
    "    if int(f_num) < 50:\n",
    "        os.replace(fid, '2022_'+fid)\n",
    "    else:\n",
    "        os.replace(fid, '2023_'+fid)"
   ]
  },
  {
   "cell_type": "code",
   "execution_count": 97,
   "metadata": {},
   "outputs": [],
   "source": [
    "# creat directories\n",
    "os.mkdir('2022_data')\n",
    "os.mkdir('2023_data')"
   ]
  },
  {
   "cell_type": "code",
   "execution_count": 98,
   "metadata": {},
   "outputs": [
    {
     "data": {
      "text/plain": [
       "['2022_data',\n",
       " '2022_file0',\n",
       " '2022_file1',\n",
       " '2022_file10',\n",
       " '2022_file11',\n",
       " '2022_file12',\n",
       " '2022_file13',\n",
       " '2022_file14',\n",
       " '2022_file15',\n",
       " '2022_file16',\n",
       " '2022_file17',\n",
       " '2022_file18',\n",
       " '2022_file19',\n",
       " '2022_file2',\n",
       " '2022_file20',\n",
       " '2022_file21',\n",
       " '2022_file22',\n",
       " '2022_file23',\n",
       " '2022_file24',\n",
       " '2022_file25',\n",
       " '2022_file26',\n",
       " '2022_file27',\n",
       " '2022_file28',\n",
       " '2022_file29',\n",
       " '2022_file3',\n",
       " '2022_file30',\n",
       " '2022_file31',\n",
       " '2022_file32',\n",
       " '2022_file33',\n",
       " '2022_file34',\n",
       " '2022_file35',\n",
       " '2022_file36',\n",
       " '2022_file37',\n",
       " '2022_file38',\n",
       " '2022_file39',\n",
       " '2022_file4',\n",
       " '2022_file40',\n",
       " '2022_file41',\n",
       " '2022_file42',\n",
       " '2022_file43',\n",
       " '2022_file44',\n",
       " '2022_file45',\n",
       " '2022_file46',\n",
       " '2022_file47',\n",
       " '2022_file48',\n",
       " '2022_file49',\n",
       " '2022_file5',\n",
       " '2022_file6',\n",
       " '2022_file7',\n",
       " '2022_file8',\n",
       " '2022_file9',\n",
       " '2023_data',\n",
       " '2023_file50',\n",
       " '2023_file51',\n",
       " '2023_file52',\n",
       " '2023_file53',\n",
       " '2023_file54',\n",
       " '2023_file55',\n",
       " '2023_file56',\n",
       " '2023_file57',\n",
       " '2023_file58',\n",
       " '2023_file59',\n",
       " '2023_file60',\n",
       " '2023_file61',\n",
       " '2023_file62',\n",
       " '2023_file63',\n",
       " '2023_file64',\n",
       " '2023_file65',\n",
       " '2023_file66',\n",
       " '2023_file67',\n",
       " '2023_file68',\n",
       " '2023_file69',\n",
       " '2023_file70',\n",
       " '2023_file71',\n",
       " '2023_file72',\n",
       " '2023_file73',\n",
       " '2023_file74',\n",
       " '2023_file75',\n",
       " '2023_file76',\n",
       " '2023_file77',\n",
       " '2023_file78',\n",
       " '2023_file79',\n",
       " '2023_file80',\n",
       " '2023_file81',\n",
       " '2023_file82',\n",
       " '2023_file83',\n",
       " '2023_file84',\n",
       " '2023_file85',\n",
       " '2023_file86',\n",
       " '2023_file87',\n",
       " '2023_file88',\n",
       " '2023_file89',\n",
       " '2023_file90',\n",
       " '2023_file91',\n",
       " '2023_file92',\n",
       " '2023_file93',\n",
       " '2023_file94',\n",
       " '2023_file95',\n",
       " '2023_file96',\n",
       " '2023_file97',\n",
       " '2023_file98',\n",
       " '2023_file99']"
      ]
     },
     "execution_count": 98,
     "metadata": {},
     "output_type": "execute_result"
    }
   ],
   "source": [
    "# move to directories\n",
    "flist=os.listdir('.')\n",
    "flist"
   ]
  },
  {
   "cell_type": "code",
   "execution_count": 99,
   "metadata": {},
   "outputs": [
    {
     "data": {
      "text/plain": [
       "['2022_file0',\n",
       " '2022_file1',\n",
       " '2022_file10',\n",
       " '2022_file11',\n",
       " '2022_file12',\n",
       " '2022_file13',\n",
       " '2022_file14',\n",
       " '2022_file15',\n",
       " '2022_file16',\n",
       " '2022_file17',\n",
       " '2022_file18',\n",
       " '2022_file19',\n",
       " '2022_file2',\n",
       " '2022_file20',\n",
       " '2022_file21',\n",
       " '2022_file22',\n",
       " '2022_file23',\n",
       " '2022_file24',\n",
       " '2022_file25',\n",
       " '2022_file26',\n",
       " '2022_file27',\n",
       " '2022_file28',\n",
       " '2022_file29',\n",
       " '2022_file3',\n",
       " '2022_file30',\n",
       " '2022_file31',\n",
       " '2022_file32',\n",
       " '2022_file33',\n",
       " '2022_file34',\n",
       " '2022_file35',\n",
       " '2022_file36',\n",
       " '2022_file37',\n",
       " '2022_file38',\n",
       " '2022_file39',\n",
       " '2022_file4',\n",
       " '2022_file40',\n",
       " '2022_file41',\n",
       " '2022_file42',\n",
       " '2022_file43',\n",
       " '2022_file44',\n",
       " '2022_file45',\n",
       " '2022_file46',\n",
       " '2022_file47',\n",
       " '2022_file48',\n",
       " '2022_file49',\n",
       " '2022_file5',\n",
       " '2022_file6',\n",
       " '2022_file7',\n",
       " '2022_file8',\n",
       " '2022_file9',\n",
       " '2023_file50',\n",
       " '2023_file51',\n",
       " '2023_file52',\n",
       " '2023_file53',\n",
       " '2023_file54',\n",
       " '2023_file55',\n",
       " '2023_file56',\n",
       " '2023_file57',\n",
       " '2023_file58',\n",
       " '2023_file59',\n",
       " '2023_file60',\n",
       " '2023_file61',\n",
       " '2023_file62',\n",
       " '2023_file63',\n",
       " '2023_file64',\n",
       " '2023_file65',\n",
       " '2023_file66',\n",
       " '2023_file67',\n",
       " '2023_file68',\n",
       " '2023_file69',\n",
       " '2023_file70',\n",
       " '2023_file71',\n",
       " '2023_file72',\n",
       " '2023_file73',\n",
       " '2023_file74',\n",
       " '2023_file75',\n",
       " '2023_file76',\n",
       " '2023_file77',\n",
       " '2023_file78',\n",
       " '2023_file79',\n",
       " '2023_file80',\n",
       " '2023_file81',\n",
       " '2023_file82',\n",
       " '2023_file83',\n",
       " '2023_file84',\n",
       " '2023_file85',\n",
       " '2023_file86',\n",
       " '2023_file87',\n",
       " '2023_file88',\n",
       " '2023_file89',\n",
       " '2023_file90',\n",
       " '2023_file91',\n",
       " '2023_file92',\n",
       " '2023_file93',\n",
       " '2023_file94',\n",
       " '2023_file95',\n",
       " '2023_file96',\n",
       " '2023_file97',\n",
       " '2023_file98',\n",
       " '2023_file99']"
      ]
     },
     "execution_count": 99,
     "metadata": {},
     "output_type": "execute_result"
    }
   ],
   "source": [
    "# filter - method 1\n",
    "idx=list(map(lambda x: 'file' in x, flist))\n",
    "flist2= list(compress(flist, idx))\n",
    "flist2"
   ]
  },
  {
   "cell_type": "code",
   "execution_count": 100,
   "metadata": {},
   "outputs": [],
   "source": [
    "# filter - method 2\n",
    "flist3=list(filter(lambda x: 'file' in x, flist))"
   ]
  },
  {
   "cell_type": "code",
   "execution_count": 101,
   "metadata": {},
   "outputs": [],
   "source": [
    "# filter - method 3\n",
    "flist4 = [x for x in flist if 'file' in x]"
   ]
  },
  {
   "cell_type": "code",
   "execution_count": 102,
   "metadata": {},
   "outputs": [],
   "source": [
    "# filter method 4\n",
    "glob.glob('2022_file??') # '?' 는 뒤에붙는 문자를 나타냄\n",
    "flist5=glob.glob('*file*')"
   ]
  },
  {
   "cell_type": "code",
   "execution_count": 103,
   "metadata": {},
   "outputs": [],
   "source": [
    "# 파일 옮기기\n",
    "temp=flist4[0]\n",
    "temp[0:9]\n",
    "for f_curr in flist4:\n",
    "    f_name=f_curr[0:9]\n",
    "    f_num=f_curr[9::]\n",
    "    if int(f_num) < 50:\n",
    "        shutil.move(f_curr,' .\\2022_data')\n",
    "    else:\n",
    "        shutil.move(f_curr,'.\\2023_data')\n"
   ]
  }
 ],
 "metadata": {
  "kernelspec": {
   "display_name": "hodam",
   "language": "python",
   "name": "python3"
  },
  "language_info": {
   "codemirror_mode": {
    "name": "ipython",
    "version": 3
   },
   "file_extension": ".py",
   "mimetype": "text/x-python",
   "name": "python",
   "nbconvert_exporter": "python",
   "pygments_lexer": "ipython3",
   "version": "3.8.17"
  },
  "orig_nbformat": 4
 },
 "nbformat": 4,
 "nbformat_minor": 2
}
