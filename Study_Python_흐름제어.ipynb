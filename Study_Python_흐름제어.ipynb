{
 "cells": [
  {
   "cell_type": "markdown",
   "metadata": {},
   "source": [
    "## For loop"
   ]
  },
  {
   "cell_type": "code",
   "execution_count": 1,
   "metadata": {},
   "outputs": [],
   "source": [
    "import numpy as np\n",
    "import time\n",
    "import matplotlib.pyplot as plt\n",
    "import getpass"
   ]
  },
  {
   "cell_type": "code",
   "execution_count": 36,
   "metadata": {},
   "outputs": [],
   "source": [
    "x_list = [1,2,3]\n",
    "x_tuple= [1,2,3]\n",
    "x_set= {1,2,3}\n",
    "x_dict= {'a':1,'b':2,'c':3}\n",
    "x_array=np.array([1,2,3])\n",
    "x_range=range(1,4,1)"
   ]
  },
  {
   "cell_type": "code",
   "execution_count": 29,
   "metadata": {},
   "outputs": [
    {
     "name": "stdout",
     "output_type": "stream",
     "text": [
      "i=1.0\n",
      "i=2.0\n",
      "i=3.0\n",
      "i=4.0\n",
      "i=5.0\n",
      "i=6.0\n",
      "i=7.0\n",
      "i=8.0\n",
      "i=9.0\n",
      "i=10.0\n",
      "i=11.0\n",
      "i=12.0\n",
      "i=13.0\n",
      "i=14.0\n",
      "i=15.0\n",
      "i=16.0\n",
      "i=17.0\n",
      "i=18.0\n",
      "i=19.0\n",
      "i=20.0\n",
      "i=21.0\n",
      "i=22.0\n",
      "i=23.0\n",
      "i=24.0\n",
      "i=25.0\n",
      "i=26.0\n",
      "i=27.0\n",
      "i=28.0\n",
      "i=29.0\n",
      "i=30.0\n",
      "i=31.0\n",
      "i=32.0\n",
      "i=33.0\n",
      "i=34.0\n",
      "i=35.0\n",
      "i=36.0\n",
      "i=37.0\n",
      "i=38.0\n",
      "i=39.0\n",
      "i=40.0\n",
      "i=41.0\n",
      "i=42.0\n",
      "i=43.0\n",
      "i=44.0\n",
      "i=45.0\n",
      "i=46.0\n",
      "i=47.0\n",
      "i=48.0\n",
      "i=49.0\n",
      "i=50.0\n",
      "i=51.0\n",
      "i=52.0\n",
      "i=53.0\n",
      "i=54.0\n",
      "i=55.0\n",
      "i=56.0\n",
      "i=57.0\n",
      "i=58.0\n",
      "i=59.0\n",
      "i=60.0\n",
      "i=61.0\n",
      "i=62.0\n",
      "i=63.0\n",
      "i=64.0\n",
      "i=65.0\n",
      "i=66.0\n",
      "i=67.0\n",
      "i=68.0\n",
      "i=69.0\n",
      "i=70.0\n",
      "i=71.0\n",
      "i=72.0\n",
      "i=73.0\n",
      "i=74.0\n",
      "i=75.0\n",
      "i=76.0\n",
      "i=77.0\n",
      "i=78.0\n",
      "i=79.0\n",
      "i=80.0\n",
      "i=81.0\n",
      "i=82.0\n",
      "i=83.0\n",
      "i=84.0\n",
      "i=85.0\n",
      "i=86.0\n",
      "i=87.0\n",
      "i=88.0\n",
      "i=89.0\n",
      "i=90.0\n",
      "i=91.0\n",
      "i=92.0\n",
      "i=93.0\n",
      "i=94.0\n",
      "i=95.0\n",
      "i=96.0\n",
      "i=97.0\n",
      "i=98.0\n",
      "i=99.0\n",
      "i=100.0\n"
     ]
    }
   ],
   "source": [
    "for i in np.linspace(1,100,100):\n",
    "    print('i='+str(i))\n",
    "    #time.sleep(0.01) # 1초씩 쉬면서 실행"
   ]
  },
  {
   "cell_type": "code",
   "execution_count": 31,
   "metadata": {},
   "outputs": [
    {
     "name": "stdout",
     "output_type": "stream",
     "text": [
      "i=1\n",
      "i=2\n",
      "i=3\n",
      "i=4\n",
      "i=5\n"
     ]
    }
   ],
   "source": [
    "# tuple\n",
    "for i in (1,2,3,4,5):\n",
    "    print('i='+str(i))"
   ]
  },
  {
   "cell_type": "code",
   "execution_count": 34,
   "metadata": {},
   "outputs": [
    {
     "name": "stdout",
     "output_type": "stream",
     "text": [
      "i=a\n",
      "i=b\n",
      "i=c\n",
      "i=d\n",
      "i=e\n"
     ]
    }
   ],
   "source": [
    "# string\n",
    "for i in 'abcde':\n",
    "    print('i='+i)\n",
    "    time.sleep(1)"
   ]
  },
  {
   "cell_type": "code",
   "execution_count": 35,
   "metadata": {},
   "outputs": [
    {
     "name": "stdout",
     "output_type": "stream",
     "text": [
      "i=1\n",
      "i=2\n",
      "i=3\n",
      "i=4\n",
      "i=5\n"
     ]
    }
   ],
   "source": [
    "# set\n",
    "for i in {1,2,3,4,5}:\n",
    "    print('i='+str(i))"
   ]
  },
  {
   "cell_type": "code",
   "execution_count": 42,
   "metadata": {},
   "outputs": [
    {
     "name": "stdout",
     "output_type": "stream",
     "text": [
      "i=('P1', 20)\n",
      "i=('P2', 22)\n",
      "i=('P3', 25)\n"
     ]
    }
   ],
   "source": [
    "# dict\n",
    "D = {'P1':20, 'P2':22,'P3':25}\n",
    "for i in D.items():\n",
    "    print('i='+str(i))\n",
    "    time.sleep(1)"
   ]
  },
  {
   "cell_type": "code",
   "execution_count": 43,
   "metadata": {},
   "outputs": [
    {
     "name": "stdout",
     "output_type": "stream",
     "text": [
      "i=1\n",
      "i=2\n",
      "i=3\n"
     ]
    }
   ],
   "source": [
    "# array\n",
    "for i in np.array([1,2,3]):\n",
    "    print('i='+str(i))\n",
    "    time.sleep(1)"
   ]
  },
  {
   "cell_type": "code",
   "execution_count": 47,
   "metadata": {},
   "outputs": [
    {
     "name": "stdout",
     "output_type": "stream",
     "text": [
      "i*j=1*1=1\n",
      "i*j=1*2=2\n",
      "i*j=1*3=3\n",
      "i*j=2*1=2\n",
      "i*j=2*2=4\n",
      "i*j=2*3=6\n",
      "i*j=3*1=3\n",
      "i*j=3*2=6\n",
      "i*j=3*3=9\n"
     ]
    }
   ],
   "source": [
    "# muliple loops 구구단 예시\n",
    "for i in [1,2,3]:\n",
    "    for j in [1,2,3]:\n",
    "        print('i*j={}*{}={}'.format(i,j,i*j))\n",
    "        time.sleep(1)"
   ]
  },
  {
   "cell_type": "code",
   "execution_count": 50,
   "metadata": {},
   "outputs": [
    {
     "name": "stdout",
     "output_type": "stream",
     "text": [
      "i*j=2*1=2\n",
      "i*j=2*2=4\n",
      "i*j=2*3=6\n",
      "i*j=2*4=8\n",
      "i*j=2*5=10\n",
      "i*j=2*6=12\n",
      "i*j=2*7=14\n",
      "i*j=2*8=16\n",
      "i*j=2*9=18\n",
      "i*j=3*1=3\n",
      "i*j=3*2=6\n",
      "i*j=3*3=9\n",
      "i*j=3*4=12\n",
      "i*j=3*5=15\n",
      "i*j=3*6=18\n",
      "i*j=3*7=21\n",
      "i*j=3*8=24\n",
      "i*j=3*9=27\n",
      "i*j=4*1=4\n",
      "i*j=4*2=8\n",
      "i*j=4*3=12\n",
      "i*j=4*4=16\n",
      "i*j=4*5=20\n",
      "i*j=4*6=24\n",
      "i*j=4*7=28\n",
      "i*j=4*8=32\n",
      "i*j=4*9=36\n",
      "i*j=5*1=5\n",
      "i*j=5*2=10\n",
      "i*j=5*3=15\n",
      "i*j=5*4=20\n",
      "i*j=5*5=25\n",
      "i*j=5*6=30\n",
      "i*j=5*7=35\n",
      "i*j=5*8=40\n",
      "i*j=5*9=45\n",
      "i*j=6*1=6\n",
      "i*j=6*2=12\n",
      "i*j=6*3=18\n",
      "i*j=6*4=24\n",
      "i*j=6*5=30\n",
      "i*j=6*6=36\n",
      "i*j=6*7=42\n",
      "i*j=6*8=48\n",
      "i*j=6*9=54\n",
      "i*j=7*1=7\n",
      "i*j=7*2=14\n",
      "i*j=7*3=21\n",
      "i*j=7*4=28\n",
      "i*j=7*5=35\n",
      "i*j=7*6=42\n",
      "i*j=7*7=49\n",
      "i*j=7*8=56\n",
      "i*j=7*9=63\n",
      "i*j=8*1=8\n",
      "i*j=8*2=16\n",
      "i*j=8*3=24\n",
      "i*j=8*4=32\n",
      "i*j=8*5=40\n",
      "i*j=8*6=48\n",
      "i*j=8*7=56\n",
      "i*j=8*8=64\n",
      "i*j=8*9=72\n",
      "i*j=9*1=9\n",
      "i*j=9*2=18\n",
      "i*j=9*3=27\n",
      "i*j=9*4=36\n",
      "i*j=9*5=45\n",
      "i*j=9*6=54\n",
      "i*j=9*7=63\n",
      "i*j=9*8=72\n",
      "i*j=9*9=81\n"
     ]
    }
   ],
   "source": [
    "for i in range(2,10,1):\n",
    "    for j in range(1,10,1):\n",
    "        print('i*j={}*{}={}'.format(i,j,i*j))\n",
    "        time.sleep(0.01)"
   ]
  },
  {
   "cell_type": "code",
   "execution_count": 56,
   "metadata": {},
   "outputs": [
    {
     "data": {
      "text/plain": [
       "'a'"
      ]
     },
     "execution_count": 56,
     "metadata": {},
     "output_type": "execute_result"
    }
   ],
   "source": [
    "# iterate()\n",
    "x_list=[1,2,3]\n",
    "\n",
    "x_iter=iter(x_list)\n",
    "next(x_iter)\n",
    "\n",
    "x_str='abc'\n",
    "x_iter=iter(x_str)\n",
    "next(x_iter)"
   ]
  },
  {
   "cell_type": "code",
   "execution_count": 57,
   "metadata": {},
   "outputs": [
    {
     "name": "stdout",
     "output_type": "stream",
     "text": [
      "Inside For Loop\n",
      "Inside For Loop\n",
      "Inside For Loop\n",
      "Out Side For Loop\n"
     ]
    }
   ],
   "source": [
    "# indentation\n",
    "for i in range(3):\n",
    "    print('Inside For Loop')\n",
    "print('Out Side For Loop')"
   ]
  },
  {
   "cell_type": "code",
   "execution_count": 64,
   "metadata": {},
   "outputs": [
    {
     "name": "stdout",
     "output_type": "stream",
     "text": [
      "1\n",
      "0\n",
      "('P1', 25)\n",
      "\n",
      "2\n",
      "0\n",
      "('P2', 28)\n",
      "\n",
      "3\n",
      "0\n",
      "('P3', 24)\n",
      "\n"
     ]
    }
   ],
   "source": [
    "# enumerate\n",
    "M = np.array([10,20,30])\n",
    "VIP = {'Newton','Kepler','Euler'}\n",
    "PD = {'P1':25,'P2':28,'P3':24}\n",
    "\n",
    "for cnt, value in enumerate(PD.items(), start=1):\n",
    "    print(cnt)\n",
    "    print(idx)\n",
    "    print(value)\n",
    "    print('')\n",
    "    time.sleep(1)"
   ]
  },
  {
   "cell_type": "code",
   "execution_count": 67,
   "metadata": {},
   "outputs": [
    {
     "name": "stdout",
     "output_type": "stream",
     "text": [
      "[10, 'Kepler', 'P1']\n",
      "[20, 'Newton', 'P2']\n",
      "[30, 'Euler', 'P3']\n"
     ]
    }
   ],
   "source": [
    "# zip 두개의 자료를 합침\n",
    "for i in zip(M,VIP,PD):\n",
    "    print(list(i))"
   ]
  },
  {
   "cell_type": "code",
   "execution_count": 3,
   "metadata": {},
   "outputs": [
    {
     "name": "stdout",
     "output_type": "stream",
     "text": [
      "Best Company. Tel:777-7777\n",
      "\n",
      "Best Company. Tel:777-7777\n",
      "\n",
      "Best Company. Tel:777-7777\n",
      "\n",
      "Best Company. Tel:777-7777\n",
      "\n",
      "Best Company. Tel:777-7777\n",
      "\n"
     ]
    }
   ],
   "source": [
    "# example 1 - for loop\n",
    "s='Best Company. Tel:777-7777'\n",
    "for i in range(5):\n",
    "    print(s)\n",
    "    print('')\n",
    "    "
   ]
  },
  {
   "cell_type": "code",
   "execution_count": 72,
   "metadata": {},
   "outputs": [
    {
     "name": "stdout",
     "output_type": "stream",
     "text": [
      "Name:Kepler\n",
      "Great Party 2020\n",
      "\n",
      "Name:Newton\n",
      "Great Party 2020\n",
      "\n",
      "Name:Euler\n",
      "Great Party 2020\n",
      "\n"
     ]
    }
   ],
   "source": [
    "# example2 - for loop\n",
    "VIP = ['Kepler','Newton','Euler']\n",
    "for i in VIP:\n",
    "    print('Name:'+i)\n",
    "    print('Great Party 2020')\n",
    "    print('')"
   ]
  },
  {
   "cell_type": "code",
   "execution_count": 73,
   "metadata": {},
   "outputs": [
    {
     "name": "stdout",
     "output_type": "stream",
     "text": [
      "100\n",
      "400\n",
      "900\n",
      "1600\n",
      "2500\n"
     ]
    }
   ],
   "source": [
    "# example 3 - for loop\n",
    "x=np.array([10,20,30,40,50])\n",
    "for i in x:\n",
    "    print(i**2)\n",
    "    time.sleep(1)"
   ]
  },
  {
   "cell_type": "code",
   "execution_count": 77,
   "metadata": {},
   "outputs": [
    {
     "name": "stdout",
     "output_type": "stream",
     "text": [
      "[100.   0.   0.   0.   0.]\n",
      "[100. 400.   0.   0.   0.]\n",
      "[100. 400. 900.   0.   0.]\n",
      "[ 100.  400.  900. 1600.    0.]\n",
      "[ 100.  400.  900. 1600. 2500.]\n"
     ]
    }
   ],
   "source": [
    "y=np.zeros(x.shape)\n",
    "for idx, value in enumerate(x):\n",
    "    y[idx]=value**2\n",
    "    print(y)"
   ]
  },
  {
   "cell_type": "code",
   "execution_count": 9,
   "metadata": {},
   "outputs": [
    {
     "name": "stdout",
     "output_type": "stream",
     "text": [
      "[0 1 1]\n",
      "[0 1 1 2]\n",
      "[0 1 1 2 3]\n",
      "[0 1 1 2 3 5]\n",
      "[0 1 1 2 3 5 8]\n",
      "[ 0  1  1  2  3  5  8 13]\n",
      "[ 0  1  1  2  3  5  8 13 21]\n",
      "[ 0  1  1  2  3  5  8 13 21 34]\n",
      "[ 0  1  1  2  3  5  8 13 21 34 55]\n",
      "[ 0  1  1  2  3  5  8 13 21 34 55 89]\n",
      "[  0   1   1   2   3   5   8  13  21  34  55  89 144]\n",
      "[  0   1   1   2   3   5   8  13  21  34  55  89 144 233]\n",
      "[  0   1   1   2   3   5   8  13  21  34  55  89 144 233 377]\n",
      "[  0   1   1   2   3   5   8  13  21  34  55  89 144 233 377 610]\n",
      "[  0   1   1   2   3   5   8  13  21  34  55  89 144 233 377 610 987]\n",
      "[   0    1    1    2    3    5    8   13   21   34   55   89  144  233\n",
      "  377  610  987 1597]\n",
      "[   0    1    1    2    3    5    8   13   21   34   55   89  144  233\n",
      "  377  610  987 1597 2584]\n",
      "[   0    1    1    2    3    5    8   13   21   34   55   89  144  233\n",
      "  377  610  987 1597 2584 4181]\n"
     ]
    }
   ],
   "source": [
    "# fibonacci task\n",
    "fib=np.array([0,1])\n",
    "N=20\n",
    "for i in range(N-2):\n",
    "    fib=np.append(fib,fib[-1]+fib[-2])\n",
    "    print(fib)\n",
    "    time.sleep(1)"
   ]
  },
  {
   "cell_type": "code",
   "execution_count": 10,
   "metadata": {},
   "outputs": [
    {
     "name": "stdout",
     "output_type": "stream",
     "text": [
      "0\n",
      "1\n",
      "1\n",
      "2\n",
      "3\n",
      "5\n",
      "8\n",
      "13\n",
      "21\n",
      "34\n"
     ]
    }
   ],
   "source": [
    "a,b=0,1\n",
    "for i in range(10):\n",
    "    print(a)\n",
    "    a, b=b, a+b\n",
    "    time.sleep(0.5)"
   ]
  },
  {
   "cell_type": "code",
   "execution_count": 18,
   "metadata": {},
   "outputs": [
    {
     "name": "stderr",
     "output_type": "stream",
     "text": [
      "UsageError: Line magic function `%%time` not found.\n"
     ]
    },
    {
     "data": {
      "image/png": "[encoded data removed]",
      "text/plain": [
       "<Figure size 640x480 with 1 Axes>"
      ]
     },
     "metadata": {},
     "output_type": "display_data"
    }
   ],
   "source": [
    "# animation graph\n",
    "t= np.linspace(0,1,100)\n",
    "phase=0\n",
    "y= np.sin(2*np.pi*1*(t-phase))\n",
    "\n",
    "fig, ax=plt.subplots()\n",
    "line, = ax.plot(t,y)\n",
    "ax.set_xlabel('t[s]')\n",
    "ax.set_ylabel('Sin graph')\n",
    "\n",
    "phase_array=np.linspace(0,1,10)\n",
    "for phase in phase_array:\n",
    "    y=np.sin(2*np.pi*1*(t-phase))\n",
    "    line.set_ydata(y)\n",
    "    plt.pause(1)"
   ]
  },
  {
   "cell_type": "markdown",
   "metadata": {},
   "source": [
    "## If, elif, else 문"
   ]
  },
  {
   "cell_type": "code",
   "execution_count": 30,
   "metadata": {},
   "outputs": [
    {
     "name": "stdout",
     "output_type": "stream",
     "text": [
      "Result is 2\n"
     ]
    }
   ],
   "source": [
    "# read x\n",
    "x=input('Type any number: ')\n",
    "\n",
    "while x.isdigit() != True:\n",
    "    x=input('Type any number: ')\n",
    "\n",
    "# check if integer\n",
    "if x.isdigit():\n",
    "    # add x 1\n",
    "    y=int(x)+1\n",
    "    # print result\n",
    "    print('Result is {}'.format(y))"
   ]
  },
  {
   "cell_type": "code",
   "execution_count": 38,
   "metadata": {},
   "outputs": [
    {
     "name": "stdout",
     "output_type": "stream",
     "text": [
      "Below age 15, no permit license allowed\n"
     ]
    }
   ],
   "source": [
    "# if-elif-else\n",
    "x = int(input('What is your age?: '))\n",
    "if x >= 18:\n",
    "    print('You can take a license test')\n",
    "elif x >= 15 and x <18:\n",
    "    print('You can get a permit')\n",
    "else:\n",
    "    print('Below age 15, no permit license allowed')"
   ]
  },
  {
   "cell_type": "code",
   "execution_count": 42,
   "metadata": {},
   "outputs": [
    {
     "name": "stdout",
     "output_type": "stream",
     "text": [
      "Welcome Mr.Euler\n",
      "Please, come in\n"
     ]
    }
   ],
   "source": [
    "# if-else\n",
    "vip_list=['Kepler','Newton','Euler']\n",
    "name_check=str(input('Provide name:'))\n",
    "if name_check in vip_list:\n",
    "    print('Welcome Mr.'+name_check)\n",
    "    print('Please, come in')\n",
    "else:\n",
    "    print('Not on the list')\n",
    "    print('Wait here')"
   ]
  },
  {
   "cell_type": "code",
   "execution_count": 47,
   "metadata": {},
   "outputs": [
    {
     "name": "stdout",
     "output_type": "stream",
     "text": [
      "Kepler\n",
      "Remaining guest #:2\n",
      "Newton\n",
      "Remaining guest #:1\n",
      "Euler\n",
      "Remaining guest #:0\n",
      "# of year = 1\n",
      "Current balance = 10500.0\n",
      "# of year = 2\n",
      "Current balance = 11025.0\n",
      "# of year = 3\n",
      "Current balance = 11576.25\n",
      "# of year = 4\n",
      "Current balance = 12155.0625\n",
      "# of year = 5\n",
      "Current balance = 12762.815625\n",
      "# of year = 6\n",
      "Current balance = 13400.95640625\n",
      "# of year = 7\n",
      "Current balance = 14071.0042265625\n",
      "# of year = 8\n",
      "Current balance = 14774.554437890625\n",
      "# of year = 9\n",
      "Current balance = 15513.282159785156\n",
      "# of year = 10\n",
      "Current balance = 16288.946267774414\n",
      "# of year = 11\n",
      "Current balance = 17103.393581163135\n",
      "# of year = 12\n",
      "Current balance = 17958.56326022129\n",
      "# of year = 13\n",
      "Current balance = 18856.491423232354\n",
      "# of year = 14\n",
      "Current balance = 19799.31599439397\n",
      "# of year = 15\n",
      "Current balance = 20789.28179411367\n"
     ]
    }
   ],
   "source": [
    "# While loop : 어떤 조건이 맞으면 밑에있는 코드를 계속해서 실행 시켜줌.\n",
    "vip_list=['Kepler','Newton','Euler']\n",
    "a=[1,2]\n",
    "bool(a) # bool : a인자를 True or False로 변환, a에 뭐든 들어있으면 True로 인식하게 만듦\n",
    "while vip_list:\n",
    "    print(vip_list.pop(0))\n",
    "    print('Remaining guest #:{}'.format(len(vip_list)))\n",
    "\n",
    "# balance example\n",
    "balance = 10000\n",
    "interest=0.05\n",
    "yr = 0\n",
    "\n",
    "while balance < 20000:\n",
    "    balance = balance + balance * interest\n",
    "    yr += 1\n",
    "    print('# of year = {}'.format(yr))\n",
    "    print('Current balance = {}'.format(balance),'\\n')\n",
    "    time.sleep(0.5)"
   ]
  },
  {
   "cell_type": "code",
   "execution_count": 50,
   "metadata": {},
   "outputs": [
    {
     "name": "stdout",
     "output_type": "stream",
     "text": [
      "0\n",
      "1\n",
      "2\n",
      "3\n"
     ]
    }
   ],
   "source": [
    "# Break & Continue\n",
    "# Break\n",
    "for i in range(5):\n",
    "    print(i)\n",
    "    if i==3:\n",
    "        break"
   ]
  },
  {
   "cell_type": "code",
   "execution_count": 55,
   "metadata": {},
   "outputs": [
    {
     "name": "stdout",
     "output_type": "stream",
     "text": [
      "# of year = 1\n",
      "Current balance = 10500.0 \n",
      "\n",
      "# of year = 2\n",
      "Current balance = 11025.0 \n",
      "\n",
      "# of year = 3\n",
      "Current balance = 11576.25 \n",
      "\n",
      "# of year = 4\n",
      "Current balance = 12155.0625 \n",
      "\n",
      "# of year = 5\n",
      "Current balance = 12762.815625 \n",
      "\n",
      "# of year = 6\n",
      "Current balance = 13400.95640625 \n",
      "\n",
      "# of year = 7\n",
      "Current balance = 14071.0042265625 \n",
      "\n",
      "# of year = 8\n",
      "Current balance = 14774.554437890625 \n",
      "\n",
      "# of year = 9\n",
      "Current balance = 15513.282159785156 \n",
      "\n",
      "# of year = 10\n",
      "Current balance = 16288.946267774414 \n",
      "\n",
      "# of year = 11\n",
      "Current balance = 17103.393581163135 \n",
      "\n",
      "# of year = 12\n",
      "Current balance = 17958.56326022129 \n",
      "\n",
      "# of year = 13\n",
      "Current balance = 18856.491423232354 \n",
      "\n",
      "# of year = 14\n",
      "Current balance = 19799.31599439397 \n",
      "\n",
      "# of year = 15\n",
      "Current balance = 20789.28179411367 \n",
      "\n"
     ]
    }
   ],
   "source": [
    "balance = 10000\n",
    "interest=0.05\n",
    "yr = 0\n",
    "\n",
    "for i in range(100000):\n",
    "    balance = balance + balance*interest\n",
    "    yr +=1\n",
    "\n",
    "    print('# of year = {}'.format(yr))\n",
    "    print('Current balance = {}'.format(balance),'\\n')\n",
    "    if balance > 20000:\n",
    "        break\n",
    "    time.sleep(0.5)"
   ]
  },
  {
   "cell_type": "code",
   "execution_count": 57,
   "metadata": {},
   "outputs": [
    {
     "name": "stdout",
     "output_type": "stream",
     "text": [
      "0\n",
      "1\n",
      "3\n",
      "4\n"
     ]
    }
   ],
   "source": [
    "# Continue\n",
    "for i in range(5):\n",
    "    if i==2:\n",
    "        continue\n",
    "    print(i)"
   ]
  },
  {
   "cell_type": "code",
   "execution_count": 59,
   "metadata": {},
   "outputs": [
    {
     "name": "stdout",
     "output_type": "stream",
     "text": [
      "T=18\n",
      "T=19\n",
      "T=20\n"
     ]
    }
   ],
   "source": [
    "# continue example\n",
    "temp = [18,19,20,-10,-20,-19]\n",
    "for t in temp:\n",
    "    if t < 0:\n",
    "        continue\n",
    "    print('T={}'.format(t))\n",
    "    time.sleep(1)"
   ]
  },
  {
   "cell_type": "code",
   "execution_count": 60,
   "metadata": {},
   "outputs": [],
   "source": [
    "# Pass\n",
    "for x in range(5):\n",
    "    pass\n",
    "\n",
    "x=1"
   ]
  },
  {
   "cell_type": "code",
   "execution_count": 74,
   "metadata": {},
   "outputs": [
    {
     "name": "stdout",
     "output_type": "stream",
     "text": [
      "Age=1\n"
     ]
    }
   ],
   "source": [
    "# try and catch 매우 중요.\n",
    "age=int(input('Please, enter age: '))\n",
    "print('Age={}'.format(age))"
   ]
  },
  {
   "cell_type": "code",
   "execution_count": 79,
   "metadata": {},
   "outputs": [
    {
     "name": "stdout",
     "output_type": "stream",
     "text": [
      "Number Only!!\n",
      "Number Only!!\n",
      "Number Only!!\n",
      "Number Only!!\n",
      "Your age :13 years old\n"
     ]
    }
   ],
   "source": [
    "while True:\n",
    "    try:\n",
    "        age = int(input('Please, enter age: '))\n",
    "        print('Your age :{} years old'.format(age))\n",
    "        break\n",
    "    except ValueError:\n",
    "        print('Number Only!!')\n",
    "    except:\n",
    "        print('Exception error occured')"
   ]
  },
  {
   "cell_type": "code",
   "execution_count": 72,
   "metadata": {},
   "outputs": [
    {
     "name": "stdout",
     "output_type": "stream",
     "text": [
      "10\n",
      "15\n"
     ]
    }
   ],
   "source": [
    "# Control Flow Tool\n",
    "# 최대값을 찾는 알고리즘\n",
    "x= np.array([10,15,13,12,11])\n",
    "\n",
    "num_max=np.NINF\n",
    "for i in x:\n",
    "    num_curr=i\n",
    "    if num_max < num_curr:\n",
    "        num_max = num_curr\n",
    "        print(num_max)"
   ]
  },
  {
   "cell_type": "code",
   "execution_count": 73,
   "metadata": {},
   "outputs": [
    {
     "name": "stdout",
     "output_type": "stream",
     "text": [
      "1.0 is odd number\n",
      "2.0 is even number\n",
      "3.0 is odd number\n",
      "4.0 is even number\n",
      "5.0 is odd number\n",
      "6.0 is even number\n"
     ]
    }
   ],
   "source": [
    "# even and odd numbers\n",
    "x=np.array([1.,2.,3.,4.,5.,6.,])\n",
    "for i in x:\n",
    "    if i%2==0:\n",
    "        print('{} is even number'.format(i))\n",
    "    else:\n",
    "        print('{} is odd number'.format(i))\n",
    "\n",
    "    time.sleep(0.5)"
   ]
  },
  {
   "cell_type": "code",
   "execution_count": 2,
   "metadata": {},
   "outputs": [
    {
     "name": "stdout",
     "output_type": "stream",
     "text": [
      "\n",
      "Log in successful!\n"
     ]
    }
   ],
   "source": [
    "# UI(user interface) example\n",
    "DATABASE = {'jjong2961@gmail.com':'aaa',\\\n",
    "            'jjongho4802':'hodam',\\\n",
    "            'pjjongh2961':'hodadam'}\n",
    "password_attempts = 3\n",
    "while password_attempts > 0:\n",
    "    user_id = input('ID: ')\n",
    "    user_ps = getpass.getpass('password: ') # getpass.getpass : 이 함수를 넣으면 입력값이 '*' 처리되어 보이지 않게 된다.\n",
    "    if user_id in DATABASE.keys() and\\\n",
    "       user_ps in DATABASE.values():\n",
    "        print('\\nLog in successful!')\n",
    "        break\n",
    "    else:\n",
    "        password_attempts -= 1\n",
    "        print('\\nTry again!')\n",
    "        print('{} attemps Left'.format(password_attempts))"
   ]
  }
 ],
 "metadata": {
  "kernelspec": {
   "display_name": "base",
   "language": "python",
   "name": "python3"
  },
  "language_info": {
   "codemirror_mode": {
    "name": "ipython",
    "version": 3
   },
   "file_extension": ".py",
   "mimetype": "text/x-python",
   "name": "python",
   "nbconvert_exporter": "python",
   "pygments_lexer": "ipython3",
   "version": "3.8.17"
  },
  "orig_nbformat": 4
 },
 "nbformat": 4,
 "nbformat_minor": 2
}
