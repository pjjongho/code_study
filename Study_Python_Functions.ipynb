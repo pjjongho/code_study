{
 "cells": [
  {
   "cell_type": "code",
   "execution_count": 1,
   "metadata": {},
   "outputs": [
    {
     "data": {
      "text/plain": [
       "12"
      ]
     },
     "execution_count": 1,
     "metadata": {},
     "output_type": "execute_result"
    }
   ],
   "source": [
    "def my_fn_add_10(x):\n",
    "    y=x+10\n",
    "    return y\n",
    "my_fn_add_10(2)"
   ]
  },
  {
   "cell_type": "code",
   "execution_count": 2,
   "metadata": {},
   "outputs": [
    {
     "name": "stdout",
     "output_type": "stream",
     "text": [
      "inside fn, y=12\n",
      "Outside fn, y=5\n"
     ]
    }
   ],
   "source": [
    "def my_fn_add_10(x):\n",
    "    #global y # 'global' 함수를 지정하면 y가 'my_fn_add_10()' 의 함수 밖에서도 y는 my_fn_add_10으로 저장되어 활용된다.\n",
    "    y=x+10\n",
    "    print('inside fn, y='+str(y))\n",
    "    return y\n",
    "my_fn_add_10(2)\n",
    "y=5\n",
    "print(('Outside fn, y=')+str(y))"
   ]
  },
  {
   "cell_type": "code",
   "execution_count": 3,
   "metadata": {},
   "outputs": [
    {
     "data": {
      "text/plain": [
       "60"
      ]
     },
     "execution_count": 3,
     "metadata": {},
     "output_type": "execute_result"
    }
   ],
   "source": [
    "def my_fn_add_10_v2(x=50):    \n",
    "    return x+10\n",
    "my_fn_add_10_v2()"
   ]
  },
  {
   "cell_type": "markdown",
   "metadata": {},
   "source": [
    "## Positional Arguments"
   ]
  },
  {
   "cell_type": "code",
   "execution_count": 4,
   "metadata": {},
   "outputs": [
    {
     "data": {
      "text/plain": [
       "27"
      ]
     },
     "execution_count": 4,
     "metadata": {},
     "output_type": "execute_result"
    }
   ],
   "source": [
    "def my_fn_add_two_num(x1, x2):\n",
    "    return x1**x2\n",
    "my_fn_add_two_num(3,3)"
   ]
  },
  {
   "cell_type": "code",
   "execution_count": 5,
   "metadata": {},
   "outputs": [
    {
     "name": "stdout",
     "output_type": "stream",
     "text": [
      "Jogga 0 None\n",
      "Jogga 24 None\n",
      "Jogga 24 sibal\n"
     ]
    },
    {
     "data": {
      "text/plain": [
       "73400"
      ]
     },
     "execution_count": 5,
     "metadata": {},
     "output_type": "execute_result"
    }
   ],
   "source": [
    "# Keyword Arguments\n",
    "def my_print(name='Nobody', age=0, lan='None'):\n",
    "    print(name+' '+str(age)+' '+lan)\n",
    "\n",
    "my_print('Jogga')\n",
    "my_print('Jogga',24)\n",
    "my_print(lan='sibal',age=24, name='Jogga')"
   ]
  },
  {
   "cell_type": "code",
   "execution_count": 8,
   "metadata": {},
   "outputs": [
    {
     "name": "stdout",
     "output_type": "stream",
     "text": [
      "abc\n",
      "def\n",
      "ghi\n"
     ]
    }
   ],
   "source": [
    "# arbitary arguments\n",
    "def my_print(*arguments): # arguments앞에 '*'를 붙이면 input이 몇개가 들어오든 상관이 없음\n",
    "    for arg in arguments:\n",
    "        print(arg)\n",
    "\n",
    "my_print('abc','def','ghi')"
   ]
  },
  {
   "cell_type": "code",
   "execution_count": 12,
   "metadata": {},
   "outputs": [
    {
     "data": {
      "text/plain": [
       "100"
      ]
     },
     "execution_count": 12,
     "metadata": {},
     "output_type": "execute_result"
    }
   ],
   "source": [
    "def my_add(*args):\n",
    "    total = 0\n",
    "    for a in args:\n",
    "        total += a\n",
    "    return total\n",
    "\n",
    "my_add(10,20,30,40)"
   ]
  },
  {
   "cell_type": "code",
   "execution_count": 14,
   "metadata": {},
   "outputs": [
    {
     "data": {
      "text/plain": [
       "'Sibal'"
      ]
     },
     "execution_count": 14,
     "metadata": {},
     "output_type": "execute_result"
    }
   ],
   "source": [
    "def my_concat(*args):\n",
    "    combined=str()\n",
    "    for a in args:\n",
    "        combined += a\n",
    "    return combined\n",
    "\n",
    "my_concat('Si','bal')"
   ]
  },
  {
   "cell_type": "code",
   "execution_count": 17,
   "metadata": {},
   "outputs": [
    {
     "data": {
      "text/plain": [
       "[10, 11, 12, 13, 14, 15]"
      ]
     },
     "execution_count": 17,
     "metadata": {},
     "output_type": "execute_result"
    }
   ],
   "source": [
    "# unpacking arguments\n",
    "list(range(0,5,1))\n",
    "\n",
    "a=[10,15]\n",
    "list(range(a[0],a[1]+1))\n",
    "a[1]+=1\n",
    "list(range(*a))"
   ]
  },
  {
   "cell_type": "code",
   "execution_count": 28,
   "metadata": {},
   "outputs": [],
   "source": [
    "import numpy as np"
   ]
  },
  {
   "cell_type": "code",
   "execution_count": 34,
   "metadata": {},
   "outputs": [
    {
     "data": {
      "text/plain": [
       "(0, 100, 1300)"
      ]
     },
     "execution_count": 34,
     "metadata": {},
     "output_type": "execute_result"
    }
   ],
   "source": [
    "# 위의 식을 함수로 만들기\n",
    "def my_list():\n",
    "    num_s=int(input('Start num: '))\n",
    "    num_e=int(input('End num: '))\n",
    "    num_inc = int(input('Increment: '))\n",
    "\n",
    "    out_list=list(range(num_s,num_e+1,num_inc))\n",
    "\n",
    "    return min(out_list), max(out_list), np.sum(out_list)\n",
    "\n",
    "my_list()"
   ]
  },
  {
   "cell_type": "code",
   "execution_count": 51,
   "metadata": {},
   "outputs": [
    {
     "name": "stdout",
     "output_type": "stream",
     "text": [
      "Input three numbers: \n",
      "Start #, End #, Increment\n",
      "For examle: 0, 5, 1\n"
     ]
    },
    {
     "data": {
      "text/plain": [
       "[0, 2, 4, 6, 8]"
      ]
     },
     "execution_count": 51,
     "metadata": {},
     "output_type": "execute_result"
    }
   ],
   "source": [
    "def my_list_v2():\n",
    "    print('Input three numbers: ')\n",
    "    print('Start #, End #, Increment')\n",
    "    print('For examle: 0, 5, 1')\n",
    "\n",
    "    ui=input('Waiting for input: ')\n",
    "    ui_list=[int(i) for i in ui.split(',')]\n",
    "    ui_list[1]+=1 # range() 범위에서 (0,5,1)일 경우 5까지 포함\n",
    "\n",
    "    out_list=list(range(*ui_list))\n",
    "\n",
    "    return out_list\n",
    "\n",
    "my_list_v2()"
   ]
  },
  {
   "cell_type": "code",
   "execution_count": 58,
   "metadata": {},
   "outputs": [],
   "source": [
    "# Documentation : 도움말 넣기\n",
    "def my_fn_add_10(num):\n",
    "    \"\"\"what?    \"\"\"\n",
    "    out = num+10\n",
    "    return out"
   ]
  },
  {
   "cell_type": "code",
   "execution_count": 62,
   "metadata": {},
   "outputs": [
    {
     "name": "stdout",
     "output_type": "stream",
     "text": [
      "{'num': <class 'int'>, 'return': <class 'str'>}\n"
     ]
    }
   ],
   "source": [
    "# annotation 결과값에 주석을 달아주는기능\n",
    "def my_fn(num:int)->int: # '->int'는 output이 나오는 데이터 타입을 알려주는 기능\n",
    "    out=num+10\n",
    "    return out\n",
    "\n",
    "print(my_fn.__annotations__)"
   ]
  },
  {
   "cell_type": "code",
   "execution_count": 69,
   "metadata": {},
   "outputs": [
    {
     "data": {
      "text/plain": [
       "11"
      ]
     },
     "execution_count": 69,
     "metadata": {},
     "output_type": "execute_result"
    }
   ],
   "source": [
    "# lambda\n",
    "add_one = lambda x: x+1\n",
    "y= (lambda x: x+1)(10)\n",
    "y"
   ]
  },
  {
   "cell_type": "code",
   "execution_count": 70,
   "metadata": {},
   "outputs": [
    {
     "data": {
      "text/plain": [
       "14"
      ]
     },
     "execution_count": 70,
     "metadata": {},
     "output_type": "execute_result"
    }
   ],
   "source": [
    "def my_fn_add_10_v1(x):\n",
    "    return x+10\n",
    "high_ord_fn=lambda x: x+ my_fn_add_10_v1(x)\n",
    "high_ord_fn(2)"
   ]
  },
  {
   "cell_type": "code",
   "execution_count": 75,
   "metadata": {},
   "outputs": [
    {
     "data": {
      "text/plain": [
       "34"
      ]
     },
     "execution_count": 75,
     "metadata": {},
     "output_type": "execute_result"
    }
   ],
   "source": [
    "high_ord_fn=lambda x, func: x+func(x)\n",
    "high_ord_fn(2, lambda x: x+1)\n",
    "high_ord_fn(2, lambda x: x-1)\n",
    "high_ord_fn(2, lambda x: x**5)"
   ]
  },
  {
   "cell_type": "code",
   "execution_count": 83,
   "metadata": {},
   "outputs": [
    {
     "data": {
      "text/plain": [
       "[11, 12, 13, 14, 15]"
      ]
     },
     "execution_count": 83,
     "metadata": {},
     "output_type": "execute_result"
    }
   ],
   "source": [
    "# map()\n",
    "a=[1,2,3,4,5]\n",
    "b= list(map(my_fn_add_10_v1,a)) # list(map(my_fn_add_10_v1, a)) : my_fn_add_10_v1 이라는 함수에 위에 작성한 a 리스트들을 각각 적용시켜 결과를 출력\n",
    "b"
   ]
  },
  {
   "cell_type": "code",
   "execution_count": 85,
   "metadata": {},
   "outputs": [
    {
     "data": {
      "text/plain": [
       "[1, 4, 9, 16, 25]"
      ]
     },
     "execution_count": 85,
     "metadata": {},
     "output_type": "execute_result"
    }
   ],
   "source": [
    "b=list(map(lambda x: x**2,a))\n",
    "b"
   ]
  },
  {
   "cell_type": "code",
   "execution_count": 104,
   "metadata": {},
   "outputs": [
    {
     "data": {
      "text/plain": [
       "['KEPLER', 'NEWTON', 'EULER']"
      ]
     },
     "execution_count": 104,
     "metadata": {},
     "output_type": "execute_result"
    }
   ],
   "source": [
    "# map example-2\n",
    "vip='euler'\n",
    "\n",
    "vip_list=['kepler','newton','euler']\n",
    "vip_list_up=list(map(lambda x: x.upper(), vip_list))\n",
    "vip_list_up\n"
   ]
  },
  {
   "cell_type": "code",
   "execution_count": 138,
   "metadata": {},
   "outputs": [
    {
     "data": {
      "text/plain": [
       "[6]"
      ]
     },
     "execution_count": 138,
     "metadata": {},
     "output_type": "execute_result"
    }
   ],
   "source": [
    "vip_list_len=list(map(lambda x: len(x),vip_list[0:1]))\n",
    "vip_list_len"
   ]
  },
  {
   "cell_type": "code",
   "execution_count": 142,
   "metadata": {},
   "outputs": [
    {
     "data": {
      "text/plain": [
       "[2, 4]"
      ]
     },
     "execution_count": 142,
     "metadata": {},
     "output_type": "execute_result"
    }
   ],
   "source": [
    "# filter : 데이터를 분석할때 매우 유용함\n",
    "# list(filter(lambda x: 'P' in x,  vip_list_up)) -> 'vip_list_up' 리스트에 알파벳 'P'가 들어있는 글자를 출력\n",
    "\n",
    "num_list=[1,2,3,4,5]\n",
    "list(filter(lambda x: x%2==0,num_list)) # num_list 에서 x가 2로 나누었을때 0으로 나오는 수를 출력"
   ]
  },
  {
   "cell_type": "code",
   "execution_count": 145,
   "metadata": {},
   "outputs": [
    {
     "data": {
      "text/plain": [
       "60"
      ]
     },
     "execution_count": 145,
     "metadata": {},
     "output_type": "execute_result"
    }
   ],
   "source": [
    "# reduce 연속적으로 연산을 하는데 유용함 -> 리스트 배열에서 숫자를 차례로 더해줌\n",
    "from functools import reduce\n",
    "\n",
    "num_list=[10,20,30]\n",
    "\n",
    "def my_fn_add(x,y):\n",
    "    return x+y\n",
    "\n",
    "reduce(my_fn_add, num_list)"
   ]
  },
  {
   "cell_type": "code",
   "execution_count": 147,
   "metadata": {},
   "outputs": [
    {
     "data": {
      "text/plain": [
       "6000"
      ]
     },
     "execution_count": 147,
     "metadata": {},
     "output_type": "execute_result"
    }
   ],
   "source": [
    "reduce(lambda a,b: a*b, num_list)"
   ]
  },
  {
   "cell_type": "code",
   "execution_count": 148,
   "metadata": {},
   "outputs": [
    {
     "data": {
      "text/plain": [
       "'PYTHON'"
      ]
     },
     "execution_count": 148,
     "metadata": {},
     "output_type": "execute_result"
    }
   ],
   "source": [
    "str_list=['P','Y','T','H','O','N']\n",
    "reduce(lambda x,y: x+y, str_list)"
   ]
  },
  {
   "cell_type": "code",
   "execution_count": 153,
   "metadata": {},
   "outputs": [
    {
     "name": "stdout",
     "output_type": "stream",
     "text": [
      "['P', 'y', 't', 'h', 'o', 'n'] ['P', 'y', 't', 'h', 'o', 'n']\n"
     ]
    }
   ],
   "source": [
    "# list comprehension vs lambda function\n",
    "letter_list=[]\n",
    "for letter in 'Python':\n",
    "    letter_list.append(letter)\n",
    "\n",
    "\n",
    "#위와 같은 코드\n",
    "letter_list_2=[letter for letter in 'Python']\n",
    "\n",
    "print(letter_list, letter_list_2)"
   ]
  },
  {
   "cell_type": "code",
   "execution_count": 158,
   "metadata": {},
   "outputs": [
    {
     "data": {
      "text/plain": [
       "['Ph', 'yh', 'th', 'hh', 'oh', 'nh']"
      ]
     },
     "execution_count": 158,
     "metadata": {},
     "output_type": "execute_result"
    }
   ],
   "source": [
    "letter_list_3=list(map(lambda x: x+'h', 'Python'))\n",
    "letter_list_3"
   ]
  },
  {
   "cell_type": "code",
   "execution_count": 25,
   "metadata": {},
   "outputs": [
    {
     "data": {
      "text/plain": [
       "[0, 1, 1, 2, 3, 5, 8, 13, 21]"
      ]
     },
     "execution_count": 25,
     "metadata": {},
     "output_type": "execute_result"
    }
   ],
   "source": [
    "# MyMathLib Package - Creating Functions\n",
    "\n",
    "# fibonacci sequence\n",
    "def my_fib_seq(n):\n",
    "    a,b=0,1\n",
    "    seq=[a,b] # seq 리스트에 수열 a,b 저장\n",
    "    for i in range(n-2): \n",
    "        a,b=b,a+b # a=b, b=a+b\n",
    "        seq.append(b) \n",
    "    return seq\n",
    "my_fib_seq(9)"
   ]
  },
  {
   "cell_type": "code",
   "execution_count": 36,
   "metadata": {},
   "outputs": [
    {
     "name": "stdout",
     "output_type": "stream",
     "text": [
      "2 4 8\n"
     ]
    }
   ],
   "source": [
    "def my_powers(number):\n",
    "    return number, number**2, number**3\n",
    "\n",
    "number, square, cube=my_powers(2)\n",
    "print(number, square, cube)"
   ]
  },
  {
   "cell_type": "code",
   "execution_count": 58,
   "metadata": {},
   "outputs": [
    {
     "data": {
      "text/plain": [
       "22"
      ]
     },
     "execution_count": 58,
     "metadata": {},
     "output_type": "execute_result"
    }
   ],
   "source": [
    "# sum\n",
    "def my_sum(num_list):\n",
    "    total=0\n",
    "    for num in num_list:\n",
    "        total += num\n",
    "    return total\n",
    "my_sum([2,3,5,6,6])"
   ]
  },
  {
   "cell_type": "code",
   "execution_count": 64,
   "metadata": {},
   "outputs": [
    {
     "data": {
      "text/plain": [
       "13.333333333333334"
      ]
     },
     "execution_count": 64,
     "metadata": {},
     "output_type": "execute_result"
    }
   ],
   "source": [
    "import numpy as np\n",
    "def sibal(num_list):\n",
    "    total=len(num_list)\n",
    "    for s in num_list:\n",
    "        s=np.sum(num_list)\n",
    "    return s/total\n",
    "sibal([10,10,20])\n",
    "        "
   ]
  },
  {
   "cell_type": "code",
   "execution_count": 55,
   "metadata": {},
   "outputs": [
    {
     "data": {
      "text/plain": [
       "20.0"
      ]
     },
     "execution_count": 55,
     "metadata": {},
     "output_type": "execute_result"
    }
   ],
   "source": [
    "# mean\n",
    "def my_mean(num_list):\n",
    "    s=my_sum(num_list)\n",
    "    n=len(num_list)\n",
    "    return s/n\n",
    "    \n",
    "my_mean([10,10,40])"
   ]
  }
 ],
 "metadata": {
  "kernelspec": {
   "display_name": "hodam",
   "language": "python",
   "name": "python3"
  },
  "language_info": {
   "codemirror_mode": {
    "name": "ipython",
    "version": 3
   },
   "file_extension": ".py",
   "mimetype": "text/x-python",
   "name": "python",
   "nbconvert_exporter": "python",
   "pygments_lexer": "ipython3",
   "version": "3.8.17"
  },
  "orig_nbformat": 4
 },
 "nbformat": 4,
 "nbformat_minor": 2
}
