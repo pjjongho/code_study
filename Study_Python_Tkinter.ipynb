{
 "cells": [
  {
   "cell_type": "markdown",
   "metadata": {},
   "source": [
    "## TKINTER"
   ]
  },
  {
   "cell_type": "code",
   "execution_count": 1,
   "metadata": {},
   "outputs": [],
   "source": [
    "import tkinter as tk"
   ]
  },
  {
   "cell_type": "code",
   "execution_count": null,
   "metadata": {},
   "outputs": [],
   "source": [
    "## run main gui\n",
    "\n",
    "#gui=tk.Tk()\n",
    "\n",
    "## Creat label\n",
    "\n",
    "#my_label_1=tk.Label(gui, text='Jot Got Da!')\n",
    "#my_label_2=tk.Label(gui, text='Sibal!')\n",
    "\n",
    "\n",
    "## Place in gui\n",
    "\n",
    "#my_label_1.pack()\n",
    "#my_label_2.pack()\n",
    "#my_label_1.grid(row=0, column=0)\n",
    "#my_label_2.grid(row=1, column=0)\n",
    "\n",
    "\n",
    "#gui.mainloop() # 사용자가 끄기 전까지는 tk창이 계속 on 되어 있음\n"
   ]
  },
  {
   "cell_type": "code",
   "execution_count": null,
   "metadata": {},
   "outputs": [],
   "source": [
    "## run main gui\n",
    "\n",
    "#gui=tk.Tk()\n",
    "\n",
    "## define function\n",
    "\n",
    "#def my_click():\n",
    "#    my_label=tk.Label(gui, text='Click')\n",
    "#    my_label.pack()\n",
    "\n",
    "\n",
    "\n",
    "\n",
    "## Creat Button\n",
    "\n",
    "#my_botton=tk.Button(\n",
    "#    gui,\n",
    "#    text='Fuck', #state=tk.DISABLED # 'DISABLED' : 버튼이 생성되어있긴 하지만 활성화는 안되어 있는 상태\n",
    "#    padx=50,\n",
    "#    pady=10,\n",
    "#    command=my_click\n",
    "#    ) \n",
    "\n",
    "## place in gui\n",
    "\n",
    "#my_botton.pack()\n",
    "#gui.mainloop()\n"
   ]
  },
  {
   "cell_type": "code",
   "execution_count": 8,
   "metadata": {},
   "outputs": [],
   "source": [
    "# run main gui\n",
    "gui=tk.Tk()\n",
    "\n",
    "\n",
    "# Define Functions\n",
    "def my_click():\n",
    "    my_label=tk.Label(gui, text=\"sibal?\"+my_entry.get())\n",
    "    my_label.pack()\n",
    "\n",
    "# entry box \n",
    "my_entry=tk.Entry(gui, width=50)\n",
    "my_entry.pack()\n",
    "\n",
    "\n",
    "# Creat a Button\n",
    "my_botton=tk.Button(\n",
    "    gui,\n",
    "    text='Fuck', #state=tk.DISABLED # 'DISABLED' : 버튼이 생성되어있긴 하지만 활성화는 안되어 있는 상태\n",
    "    padx=50,\n",
    "    pady=10,\n",
    "    command=my_click\n",
    "    ) \n",
    "\n",
    "\n",
    "# run mainloop\n",
    "gui.mainloop()"
   ]
  }
 ],
 "metadata": {
  "kernelspec": {
   "display_name": "base",
   "language": "python",
   "name": "python3"
  },
  "language_info": {
   "codemirror_mode": {
    "name": "ipython",
    "version": 3
   },
   "file_extension": ".py",
   "mimetype": "text/x-python",
   "name": "python",
   "nbconvert_exporter": "python",
   "pygments_lexer": "ipython3",
   "version": "3.8.17"
  },
  "orig_nbformat": 4
 },
 "nbformat": 4,
 "nbformat_minor": 2
}
